{
  "nbformat": 4,
  "nbformat_minor": 0,
  "metadata": {
    "colab": {
      "provenance": [],
      "authorship_tag": "ABX9TyM+AeXCqWAqxj5z3yIKCRCR",
      "include_colab_link": true
    },
    "kernelspec": {
      "name": "python3",
      "display_name": "Python 3"
    },
    "language_info": {
      "name": "python"
    }
  },
  "cells": [
    {
      "cell_type": "markdown",
      "metadata": {
        "id": "view-in-github",
        "colab_type": "text"
      },
      "source": [
        "<a href=\"https://colab.research.google.com/github/TheFckReal/ML-attestation/blob/main/ml_attestation.ipynb\" target=\"_parent\"><img src=\"https://colab.research.google.com/assets/colab-badge.svg\" alt=\"Open In Colab\"/></a>"
      ]
    },
    {
      "cell_type": "markdown",
      "source": [
        "# Вопросы"
      ],
      "metadata": {
        "id": "pr-SXeDHOiYS"
      }
    },
    {
      "cell_type": "markdown",
      "source": [
        "## 1. Объясните, как вычисляется качество модели с задачей классификации: назовите основные и вторичные метрики, приведите пример"
      ],
      "metadata": {
        "id": "IJeE7egoOr4x"
      }
    },
    {
      "cell_type": "markdown",
      "source": [
        "Качество модели с задачей классификации фундаментально основано на матрице ошибок, представляющей из себя следующее:\n",
        "\n",
        " \\\\\n",
        "  \\begin{array}{|c|c|c|c|c|c|c|c|}\\hline\\\\ \\\\\n",
        "  \\mathcal{} & \\mathcal{Positive} & \\mathcal{Negative} \\\\ \\hline\\\\ \\\\\n",
        "  Positive & TP & FN  \\\\ \\hline\\\\ \\\\\n",
        "  Negative & FP & TN\n",
        " \\\\ \\hline\n",
        "  \\end{array}"
      ],
      "metadata": {
        "id": "Rmf3_YnBOxpN"
      }
    },
    {
      "cell_type": "markdown",
      "source": [
        "И имеет следующие первичные метрики:\n",
        "\n",
        "$Accuracy (достоверность) = \\frac{TP + TN} {FP + FN + TP + TN} = \\frac {TP + TN} {P + N}$ и обозначает долю верных ответов среди всех ответов модели.\n",
        "\n",
        "$Precision (точность) = \\frac{TP} {TP + FP}$ и показывает долю ложноположительных срабатываний. Таким образом, при увеличении точности наша модель лучше различает положительный и отрицательный класс.\n",
        "\n",
        "$Recall (полнота) = \\frac {TP} {TP + FN}$ и показывает долю ложноотрицательных срабатываний. При увеличении этой метрики модель лучше в целом определяет положительный класс.\n",
        "\n",
        "Вторичными же метриками, то есть основанными на первичных, можно назвать F-меру (среднее гармоническое точности и полноты с коэффициентом, отвечающим за важность точности) и ROC-AUC (метрика, показывающая насколько лучше наша модель в сравнении со случайной моделью)."
      ],
      "metadata": {
        "id": "mH59QdLdRd5G"
      }
    },
    {
      "cell_type": "markdown",
      "source": [
        "Пример:\n",
        "\n",
        "Пусть у нас будет модель, предсказывающая пьяный водитель или нет (например, по его внешнему виду или поведению).\n",
        "Метка **1** - водитель пьян (положительный класс).\n",
        "Метка **0** - водитель трезв (отрицательный класс).\n",
        "\n",
        "Всего 6 обьектов, имеющих метку **0**, и 4, имеющих метку **1**.\n",
        "\n",
        "И пусть матрица ошибок нашей модели имеет следующий вид\n",
        "\n",
        " \\\\\n",
        "  \\begin{array}{|c|c|c|c|c|c|c|c|}\\hline\\\\ \\\\\n",
        "  \\mathcal{} & \\mathcal{Positive} & \\mathcal{Negative} \\\\ \\hline\\\\ \\\\\n",
        "  Positive & 3 & 1  \\\\ \\hline\\\\ \\\\\n",
        "  Negative & 2 & 4\n",
        " \\\\ \\hline\n",
        "  \\end{array}"
      ],
      "metadata": {
        "id": "qgDANjUVanFE"
      }
    },
    {
      "cell_type": "markdown",
      "source": [
        "Тогда метрики качества будут следующие:\n",
        "\n",
        "Accuracy = $\\frac{7} {10}$ = 0.7\n",
        "\n",
        "Precision = $\\frac{3} {3 + 2}$ = 0.6\n",
        "\n",
        "Recall = $\\frac{3} {3 + 1}$ = 0.75\n",
        "\n",
        "F1-мера (то есть β = 1) = $\\frac{2} {1 / Precision + 1 / Recall}$ = $\\frac{2} {1 / 0.6 + 1 / 0.75}$ $≃$ 0.67"
      ],
      "metadata": {
        "id": "w3yy_7HvchmV"
      }
    },
    {
      "cell_type": "markdown",
      "source": [
        "И, к примеру, в рамках нашей задачи нам важно явно опознавать пьяных водителей, так как ошибочное отнесение пьяного водителя к трезвому может стоить жизни. То есть нам нужно уменьшить кол-во ложноотрицательных срабатываний - в таком случае нужно обратить внимание на метрику Recall."
      ],
      "metadata": {
        "id": "aSdpkzHTgxoP"
      }
    },
    {
      "cell_type": "markdown",
      "source": [
        "## 2. Что такое тестовый набор данных (test set) и для чего он нужен?"
      ],
      "metadata": {
        "id": "AfV27vDPhu-u"
      }
    },
    {
      "cell_type": "markdown",
      "source": [
        "Тестовый набор данных - это выборка, по которой оценивается качество **обученной модели**. Соответственно, она необходима для оценки качества модели с учётом её обобщающей способности."
      ],
      "metadata": {
        "id": "kBf3gKwnitFb"
      }
    },
    {
      "cell_type": "markdown",
      "source": [
        "## 3. В чем разница между параметром модели и гиперпараметром алгоритма обучения? Приведите примеры."
      ],
      "metadata": {
        "id": "93wlKVGnj5Uh"
      }
    },
    {
      "cell_type": "markdown",
      "source": [
        "Параметром модели является математический обьект (число, вектор), значение которого модель подбирает в ходе решения оптимизационной задачи (то бишь обучения).\n",
        "\n",
        "В то же время гиперпараметр - это параметр, который определяет ход обучения модели, т.е. задаётся до этого процесса. И задаётся он, как правило, человеком. Таким образом гиперпараметр может повлиять на все аспекты обучения модели: темп, оптимум и т.п.\n",
        "\n",
        "Примеры:\n",
        "\n",
        "В линейной модели параметром является вектор коэффициентов у признаков. При этом гиперпараметрами являются: кол-во итераций, tol (разница изменения) при градиентном спуске. При L1, L2 регуляризации параметр α, отвечающий за силу регуляризации, является также гиперпараметром.\n",
        "\n",
        "В решающих деревьях параметрами являются разделяющие значения в предикторах, а гиперпараметром - длина дерева, минимальное кол-во элементов в листе и т.п."
      ],
      "metadata": {
        "id": "ofzaYraGKYIo"
      }
    },
    {
      "cell_type": "markdown",
      "source": [
        "# Соревнование на Kaggle"
      ],
      "metadata": {
        "id": "mx8bQroHjvwZ"
      }
    },
    {
      "cell_type": "code",
      "source": [
        "from google.colab import drive\n",
        "drive.mount('/content/drive')"
      ],
      "metadata": {
        "colab": {
          "base_uri": "https://localhost:8080/"
        },
        "id": "iaPaozh8j5TN",
        "outputId": "efca5e0e-5442-4edd-c850-7dc648fed17c"
      },
      "execution_count": null,
      "outputs": [
        {
          "output_type": "stream",
          "name": "stdout",
          "text": [
            "Drive already mounted at /content/drive; to attempt to forcibly remount, call drive.mount(\"/content/drive\", force_remount=True).\n"
          ]
        }
      ]
    },
    {
      "cell_type": "code",
      "source": [
        "import pandas as pd\n",
        "import matplotlib.pyplot as plt\n",
        "import seaborn as sns\n",
        "plt.style.use('seaborn-v0_8') #стиль отрисовки seaborn\n",
        "%matplotlib inline\n",
        "\n",
        "train = pd.read_csv('/content/drive/MyDrive/titanic_train.csv')\n",
        "test = pd.read_csv('/content/drive/MyDrive/titanic_test.csv')"
      ],
      "metadata": {
        "id": "JhvrqnIxjzri"
      },
      "execution_count": null,
      "outputs": []
    },
    {
      "cell_type": "markdown",
      "source": [
        "## 1. Знакомство с данными"
      ],
      "metadata": {
        "id": "0MgeBlIHl8Dx"
      }
    },
    {
      "cell_type": "code",
      "source": [
        "train.head()"
      ],
      "metadata": {
        "colab": {
          "base_uri": "https://localhost:8080/",
          "height": 206
        },
        "id": "tkSN3dj1lEKL",
        "outputId": "11e4ff2f-bad5-4045-ef69-8e4f27de6d50"
      },
      "execution_count": null,
      "outputs": [
        {
          "output_type": "execute_result",
          "data": {
            "text/plain": [
              "   PassengerId  Survived  Pclass  \\\n",
              "0            1         0       3   \n",
              "1            2         1       1   \n",
              "2            3         1       3   \n",
              "3            4         1       1   \n",
              "4            5         0       3   \n",
              "\n",
              "                                                Name     Sex   Age  SibSp  \\\n",
              "0                            Braund, Mr. Owen Harris    male  22.0      1   \n",
              "1  Cumings, Mrs. John Bradley (Florence Briggs Th...  female  38.0      1   \n",
              "2                             Heikkinen, Miss. Laina  female  26.0      0   \n",
              "3       Futrelle, Mrs. Jacques Heath (Lily May Peel)  female  35.0      1   \n",
              "4                           Allen, Mr. William Henry    male  35.0      0   \n",
              "\n",
              "   Parch            Ticket     Fare Cabin Embarked  \n",
              "0      0         A/5 21171   7.2500   NaN        S  \n",
              "1      0          PC 17599  71.2833   C85        C  \n",
              "2      0  STON/O2. 3101282   7.9250   NaN        S  \n",
              "3      0            113803  53.1000  C123        S  \n",
              "4      0            373450   8.0500   NaN        S  "
            ],
            "text/html": [
              "\n",
              "  <div id=\"df-9d1da442-a25c-4d86-a5a1-8c47813168e9\" class=\"colab-df-container\">\n",
              "    <div>\n",
              "<style scoped>\n",
              "    .dataframe tbody tr th:only-of-type {\n",
              "        vertical-align: middle;\n",
              "    }\n",
              "\n",
              "    .dataframe tbody tr th {\n",
              "        vertical-align: top;\n",
              "    }\n",
              "\n",
              "    .dataframe thead th {\n",
              "        text-align: right;\n",
              "    }\n",
              "</style>\n",
              "<table border=\"1\" class=\"dataframe\">\n",
              "  <thead>\n",
              "    <tr style=\"text-align: right;\">\n",
              "      <th></th>\n",
              "      <th>PassengerId</th>\n",
              "      <th>Survived</th>\n",
              "      <th>Pclass</th>\n",
              "      <th>Name</th>\n",
              "      <th>Sex</th>\n",
              "      <th>Age</th>\n",
              "      <th>SibSp</th>\n",
              "      <th>Parch</th>\n",
              "      <th>Ticket</th>\n",
              "      <th>Fare</th>\n",
              "      <th>Cabin</th>\n",
              "      <th>Embarked</th>\n",
              "    </tr>\n",
              "  </thead>\n",
              "  <tbody>\n",
              "    <tr>\n",
              "      <th>0</th>\n",
              "      <td>1</td>\n",
              "      <td>0</td>\n",
              "      <td>3</td>\n",
              "      <td>Braund, Mr. Owen Harris</td>\n",
              "      <td>male</td>\n",
              "      <td>22.0</td>\n",
              "      <td>1</td>\n",
              "      <td>0</td>\n",
              "      <td>A/5 21171</td>\n",
              "      <td>7.2500</td>\n",
              "      <td>NaN</td>\n",
              "      <td>S</td>\n",
              "    </tr>\n",
              "    <tr>\n",
              "      <th>1</th>\n",
              "      <td>2</td>\n",
              "      <td>1</td>\n",
              "      <td>1</td>\n",
              "      <td>Cumings, Mrs. John Bradley (Florence Briggs Th...</td>\n",
              "      <td>female</td>\n",
              "      <td>38.0</td>\n",
              "      <td>1</td>\n",
              "      <td>0</td>\n",
              "      <td>PC 17599</td>\n",
              "      <td>71.2833</td>\n",
              "      <td>C85</td>\n",
              "      <td>C</td>\n",
              "    </tr>\n",
              "    <tr>\n",
              "      <th>2</th>\n",
              "      <td>3</td>\n",
              "      <td>1</td>\n",
              "      <td>3</td>\n",
              "      <td>Heikkinen, Miss. Laina</td>\n",
              "      <td>female</td>\n",
              "      <td>26.0</td>\n",
              "      <td>0</td>\n",
              "      <td>0</td>\n",
              "      <td>STON/O2. 3101282</td>\n",
              "      <td>7.9250</td>\n",
              "      <td>NaN</td>\n",
              "      <td>S</td>\n",
              "    </tr>\n",
              "    <tr>\n",
              "      <th>3</th>\n",
              "      <td>4</td>\n",
              "      <td>1</td>\n",
              "      <td>1</td>\n",
              "      <td>Futrelle, Mrs. Jacques Heath (Lily May Peel)</td>\n",
              "      <td>female</td>\n",
              "      <td>35.0</td>\n",
              "      <td>1</td>\n",
              "      <td>0</td>\n",
              "      <td>113803</td>\n",
              "      <td>53.1000</td>\n",
              "      <td>C123</td>\n",
              "      <td>S</td>\n",
              "    </tr>\n",
              "    <tr>\n",
              "      <th>4</th>\n",
              "      <td>5</td>\n",
              "      <td>0</td>\n",
              "      <td>3</td>\n",
              "      <td>Allen, Mr. William Henry</td>\n",
              "      <td>male</td>\n",
              "      <td>35.0</td>\n",
              "      <td>0</td>\n",
              "      <td>0</td>\n",
              "      <td>373450</td>\n",
              "      <td>8.0500</td>\n",
              "      <td>NaN</td>\n",
              "      <td>S</td>\n",
              "    </tr>\n",
              "  </tbody>\n",
              "</table>\n",
              "</div>\n",
              "    <div class=\"colab-df-buttons\">\n",
              "\n",
              "  <div class=\"colab-df-container\">\n",
              "    <button class=\"colab-df-convert\" onclick=\"convertToInteractive('df-9d1da442-a25c-4d86-a5a1-8c47813168e9')\"\n",
              "            title=\"Convert this dataframe to an interactive table.\"\n",
              "            style=\"display:none;\">\n",
              "\n",
              "  <svg xmlns=\"http://www.w3.org/2000/svg\" height=\"24px\" viewBox=\"0 -960 960 960\">\n",
              "    <path d=\"M120-120v-720h720v720H120Zm60-500h600v-160H180v160Zm220 220h160v-160H400v160Zm0 220h160v-160H400v160ZM180-400h160v-160H180v160Zm440 0h160v-160H620v160ZM180-180h160v-160H180v160Zm440 0h160v-160H620v160Z\"/>\n",
              "  </svg>\n",
              "    </button>\n",
              "\n",
              "  <style>\n",
              "    .colab-df-container {\n",
              "      display:flex;\n",
              "      gap: 12px;\n",
              "    }\n",
              "\n",
              "    .colab-df-convert {\n",
              "      background-color: #E8F0FE;\n",
              "      border: none;\n",
              "      border-radius: 50%;\n",
              "      cursor: pointer;\n",
              "      display: none;\n",
              "      fill: #1967D2;\n",
              "      height: 32px;\n",
              "      padding: 0 0 0 0;\n",
              "      width: 32px;\n",
              "    }\n",
              "\n",
              "    .colab-df-convert:hover {\n",
              "      background-color: #E2EBFA;\n",
              "      box-shadow: 0px 1px 2px rgba(60, 64, 67, 0.3), 0px 1px 3px 1px rgba(60, 64, 67, 0.15);\n",
              "      fill: #174EA6;\n",
              "    }\n",
              "\n",
              "    .colab-df-buttons div {\n",
              "      margin-bottom: 4px;\n",
              "    }\n",
              "\n",
              "    [theme=dark] .colab-df-convert {\n",
              "      background-color: #3B4455;\n",
              "      fill: #D2E3FC;\n",
              "    }\n",
              "\n",
              "    [theme=dark] .colab-df-convert:hover {\n",
              "      background-color: #434B5C;\n",
              "      box-shadow: 0px 1px 3px 1px rgba(0, 0, 0, 0.15);\n",
              "      filter: drop-shadow(0px 1px 2px rgba(0, 0, 0, 0.3));\n",
              "      fill: #FFFFFF;\n",
              "    }\n",
              "  </style>\n",
              "\n",
              "    <script>\n",
              "      const buttonEl =\n",
              "        document.querySelector('#df-9d1da442-a25c-4d86-a5a1-8c47813168e9 button.colab-df-convert');\n",
              "      buttonEl.style.display =\n",
              "        google.colab.kernel.accessAllowed ? 'block' : 'none';\n",
              "\n",
              "      async function convertToInteractive(key) {\n",
              "        const element = document.querySelector('#df-9d1da442-a25c-4d86-a5a1-8c47813168e9');\n",
              "        const dataTable =\n",
              "          await google.colab.kernel.invokeFunction('convertToInteractive',\n",
              "                                                    [key], {});\n",
              "        if (!dataTable) return;\n",
              "\n",
              "        const docLinkHtml = 'Like what you see? Visit the ' +\n",
              "          '<a target=\"_blank\" href=https://colab.research.google.com/notebooks/data_table.ipynb>data table notebook</a>'\n",
              "          + ' to learn more about interactive tables.';\n",
              "        element.innerHTML = '';\n",
              "        dataTable['output_type'] = 'display_data';\n",
              "        await google.colab.output.renderOutput(dataTable, element);\n",
              "        const docLink = document.createElement('div');\n",
              "        docLink.innerHTML = docLinkHtml;\n",
              "        element.appendChild(docLink);\n",
              "      }\n",
              "    </script>\n",
              "  </div>\n",
              "\n",
              "\n",
              "<div id=\"df-0333b13b-a780-4843-9a5a-dd58ac360864\">\n",
              "  <button class=\"colab-df-quickchart\" onclick=\"quickchart('df-0333b13b-a780-4843-9a5a-dd58ac360864')\"\n",
              "            title=\"Suggest charts\"\n",
              "            style=\"display:none;\">\n",
              "\n",
              "<svg xmlns=\"http://www.w3.org/2000/svg\" height=\"24px\"viewBox=\"0 0 24 24\"\n",
              "     width=\"24px\">\n",
              "    <g>\n",
              "        <path d=\"M19 3H5c-1.1 0-2 .9-2 2v14c0 1.1.9 2 2 2h14c1.1 0 2-.9 2-2V5c0-1.1-.9-2-2-2zM9 17H7v-7h2v7zm4 0h-2V7h2v10zm4 0h-2v-4h2v4z\"/>\n",
              "    </g>\n",
              "</svg>\n",
              "  </button>\n",
              "\n",
              "<style>\n",
              "  .colab-df-quickchart {\n",
              "      --bg-color: #E8F0FE;\n",
              "      --fill-color: #1967D2;\n",
              "      --hover-bg-color: #E2EBFA;\n",
              "      --hover-fill-color: #174EA6;\n",
              "      --disabled-fill-color: #AAA;\n",
              "      --disabled-bg-color: #DDD;\n",
              "  }\n",
              "\n",
              "  [theme=dark] .colab-df-quickchart {\n",
              "      --bg-color: #3B4455;\n",
              "      --fill-color: #D2E3FC;\n",
              "      --hover-bg-color: #434B5C;\n",
              "      --hover-fill-color: #FFFFFF;\n",
              "      --disabled-bg-color: #3B4455;\n",
              "      --disabled-fill-color: #666;\n",
              "  }\n",
              "\n",
              "  .colab-df-quickchart {\n",
              "    background-color: var(--bg-color);\n",
              "    border: none;\n",
              "    border-radius: 50%;\n",
              "    cursor: pointer;\n",
              "    display: none;\n",
              "    fill: var(--fill-color);\n",
              "    height: 32px;\n",
              "    padding: 0;\n",
              "    width: 32px;\n",
              "  }\n",
              "\n",
              "  .colab-df-quickchart:hover {\n",
              "    background-color: var(--hover-bg-color);\n",
              "    box-shadow: 0 1px 2px rgba(60, 64, 67, 0.3), 0 1px 3px 1px rgba(60, 64, 67, 0.15);\n",
              "    fill: var(--button-hover-fill-color);\n",
              "  }\n",
              "\n",
              "  .colab-df-quickchart-complete:disabled,\n",
              "  .colab-df-quickchart-complete:disabled:hover {\n",
              "    background-color: var(--disabled-bg-color);\n",
              "    fill: var(--disabled-fill-color);\n",
              "    box-shadow: none;\n",
              "  }\n",
              "\n",
              "  .colab-df-spinner {\n",
              "    border: 2px solid var(--fill-color);\n",
              "    border-color: transparent;\n",
              "    border-bottom-color: var(--fill-color);\n",
              "    animation:\n",
              "      spin 1s steps(1) infinite;\n",
              "  }\n",
              "\n",
              "  @keyframes spin {\n",
              "    0% {\n",
              "      border-color: transparent;\n",
              "      border-bottom-color: var(--fill-color);\n",
              "      border-left-color: var(--fill-color);\n",
              "    }\n",
              "    20% {\n",
              "      border-color: transparent;\n",
              "      border-left-color: var(--fill-color);\n",
              "      border-top-color: var(--fill-color);\n",
              "    }\n",
              "    30% {\n",
              "      border-color: transparent;\n",
              "      border-left-color: var(--fill-color);\n",
              "      border-top-color: var(--fill-color);\n",
              "      border-right-color: var(--fill-color);\n",
              "    }\n",
              "    40% {\n",
              "      border-color: transparent;\n",
              "      border-right-color: var(--fill-color);\n",
              "      border-top-color: var(--fill-color);\n",
              "    }\n",
              "    60% {\n",
              "      border-color: transparent;\n",
              "      border-right-color: var(--fill-color);\n",
              "    }\n",
              "    80% {\n",
              "      border-color: transparent;\n",
              "      border-right-color: var(--fill-color);\n",
              "      border-bottom-color: var(--fill-color);\n",
              "    }\n",
              "    90% {\n",
              "      border-color: transparent;\n",
              "      border-bottom-color: var(--fill-color);\n",
              "    }\n",
              "  }\n",
              "</style>\n",
              "\n",
              "  <script>\n",
              "    async function quickchart(key) {\n",
              "      const quickchartButtonEl =\n",
              "        document.querySelector('#' + key + ' button');\n",
              "      quickchartButtonEl.disabled = true;  // To prevent multiple clicks.\n",
              "      quickchartButtonEl.classList.add('colab-df-spinner');\n",
              "      try {\n",
              "        const charts = await google.colab.kernel.invokeFunction(\n",
              "            'suggestCharts', [key], {});\n",
              "      } catch (error) {\n",
              "        console.error('Error during call to suggestCharts:', error);\n",
              "      }\n",
              "      quickchartButtonEl.classList.remove('colab-df-spinner');\n",
              "      quickchartButtonEl.classList.add('colab-df-quickchart-complete');\n",
              "    }\n",
              "    (() => {\n",
              "      let quickchartButtonEl =\n",
              "        document.querySelector('#df-0333b13b-a780-4843-9a5a-dd58ac360864 button');\n",
              "      quickchartButtonEl.style.display =\n",
              "        google.colab.kernel.accessAllowed ? 'block' : 'none';\n",
              "    })();\n",
              "  </script>\n",
              "</div>\n",
              "\n",
              "    </div>\n",
              "  </div>\n"
            ],
            "application/vnd.google.colaboratory.intrinsic+json": {
              "type": "dataframe",
              "variable_name": "train",
              "summary": "{\n  \"name\": \"train\",\n  \"rows\": 891,\n  \"fields\": [\n    {\n      \"column\": \"PassengerId\",\n      \"properties\": {\n        \"dtype\": \"number\",\n        \"std\": 257,\n        \"min\": 1,\n        \"max\": 891,\n        \"num_unique_values\": 891,\n        \"samples\": [\n          710,\n          440,\n          841\n        ],\n        \"semantic_type\": \"\",\n        \"description\": \"\"\n      }\n    },\n    {\n      \"column\": \"Survived\",\n      \"properties\": {\n        \"dtype\": \"number\",\n        \"std\": 0,\n        \"min\": 0,\n        \"max\": 1,\n        \"num_unique_values\": 2,\n        \"samples\": [\n          1,\n          0\n        ],\n        \"semantic_type\": \"\",\n        \"description\": \"\"\n      }\n    },\n    {\n      \"column\": \"Pclass\",\n      \"properties\": {\n        \"dtype\": \"number\",\n        \"std\": 0,\n        \"min\": 1,\n        \"max\": 3,\n        \"num_unique_values\": 3,\n        \"samples\": [\n          3,\n          1\n        ],\n        \"semantic_type\": \"\",\n        \"description\": \"\"\n      }\n    },\n    {\n      \"column\": \"Name\",\n      \"properties\": {\n        \"dtype\": \"string\",\n        \"num_unique_values\": 891,\n        \"samples\": [\n          \"Moubarek, Master. Halim Gonios (\\\"William George\\\")\",\n          \"Kvillner, Mr. Johan Henrik Johannesson\"\n        ],\n        \"semantic_type\": \"\",\n        \"description\": \"\"\n      }\n    },\n    {\n      \"column\": \"Sex\",\n      \"properties\": {\n        \"dtype\": \"category\",\n        \"num_unique_values\": 2,\n        \"samples\": [\n          \"female\",\n          \"male\"\n        ],\n        \"semantic_type\": \"\",\n        \"description\": \"\"\n      }\n    },\n    {\n      \"column\": \"Age\",\n      \"properties\": {\n        \"dtype\": \"number\",\n        \"std\": 14.526497332334042,\n        \"min\": 0.42,\n        \"max\": 80.0,\n        \"num_unique_values\": 88,\n        \"samples\": [\n          0.75,\n          22.0\n        ],\n        \"semantic_type\": \"\",\n        \"description\": \"\"\n      }\n    },\n    {\n      \"column\": \"SibSp\",\n      \"properties\": {\n        \"dtype\": \"number\",\n        \"std\": 1,\n        \"min\": 0,\n        \"max\": 8,\n        \"num_unique_values\": 7,\n        \"samples\": [\n          1,\n          0\n        ],\n        \"semantic_type\": \"\",\n        \"description\": \"\"\n      }\n    },\n    {\n      \"column\": \"Parch\",\n      \"properties\": {\n        \"dtype\": \"number\",\n        \"std\": 0,\n        \"min\": 0,\n        \"max\": 6,\n        \"num_unique_values\": 7,\n        \"samples\": [\n          0,\n          1\n        ],\n        \"semantic_type\": \"\",\n        \"description\": \"\"\n      }\n    },\n    {\n      \"column\": \"Ticket\",\n      \"properties\": {\n        \"dtype\": \"string\",\n        \"num_unique_values\": 681,\n        \"samples\": [\n          \"11774\",\n          \"248740\"\n        ],\n        \"semantic_type\": \"\",\n        \"description\": \"\"\n      }\n    },\n    {\n      \"column\": \"Fare\",\n      \"properties\": {\n        \"dtype\": \"number\",\n        \"std\": 49.6934285971809,\n        \"min\": 0.0,\n        \"max\": 512.3292,\n        \"num_unique_values\": 248,\n        \"samples\": [\n          11.2417,\n          51.8625\n        ],\n        \"semantic_type\": \"\",\n        \"description\": \"\"\n      }\n    },\n    {\n      \"column\": \"Cabin\",\n      \"properties\": {\n        \"dtype\": \"category\",\n        \"num_unique_values\": 147,\n        \"samples\": [\n          \"D45\",\n          \"B49\"\n        ],\n        \"semantic_type\": \"\",\n        \"description\": \"\"\n      }\n    },\n    {\n      \"column\": \"Embarked\",\n      \"properties\": {\n        \"dtype\": \"category\",\n        \"num_unique_values\": 3,\n        \"samples\": [\n          \"S\",\n          \"C\"\n        ],\n        \"semantic_type\": \"\",\n        \"description\": \"\"\n      }\n    }\n  ]\n}"
            }
          },
          "metadata": {},
          "execution_count": 98
        }
      ]
    },
    {
      "cell_type": "code",
      "source": [
        "test.head()"
      ],
      "metadata": {
        "colab": {
          "base_uri": "https://localhost:8080/",
          "height": 206
        },
        "id": "r1aEQYbdlGTo",
        "outputId": "be3a6435-7e4a-47ef-e203-4279b4546f87"
      },
      "execution_count": null,
      "outputs": [
        {
          "output_type": "execute_result",
          "data": {
            "text/plain": [
              "   PassengerId  Pclass                                          Name     Sex  \\\n",
              "0          892       3                              Kelly, Mr. James    male   \n",
              "1          893       3              Wilkes, Mrs. James (Ellen Needs)  female   \n",
              "2          894       2                     Myles, Mr. Thomas Francis    male   \n",
              "3          895       3                              Wirz, Mr. Albert    male   \n",
              "4          896       3  Hirvonen, Mrs. Alexander (Helga E Lindqvist)  female   \n",
              "\n",
              "    Age  SibSp  Parch   Ticket     Fare Cabin Embarked  \n",
              "0  34.5      0      0   330911   7.8292   NaN        Q  \n",
              "1  47.0      1      0   363272   7.0000   NaN        S  \n",
              "2  62.0      0      0   240276   9.6875   NaN        Q  \n",
              "3  27.0      0      0   315154   8.6625   NaN        S  \n",
              "4  22.0      1      1  3101298  12.2875   NaN        S  "
            ],
            "text/html": [
              "\n",
              "  <div id=\"df-f109b06b-31dd-434e-8c66-d83bc16181db\" class=\"colab-df-container\">\n",
              "    <div>\n",
              "<style scoped>\n",
              "    .dataframe tbody tr th:only-of-type {\n",
              "        vertical-align: middle;\n",
              "    }\n",
              "\n",
              "    .dataframe tbody tr th {\n",
              "        vertical-align: top;\n",
              "    }\n",
              "\n",
              "    .dataframe thead th {\n",
              "        text-align: right;\n",
              "    }\n",
              "</style>\n",
              "<table border=\"1\" class=\"dataframe\">\n",
              "  <thead>\n",
              "    <tr style=\"text-align: right;\">\n",
              "      <th></th>\n",
              "      <th>PassengerId</th>\n",
              "      <th>Pclass</th>\n",
              "      <th>Name</th>\n",
              "      <th>Sex</th>\n",
              "      <th>Age</th>\n",
              "      <th>SibSp</th>\n",
              "      <th>Parch</th>\n",
              "      <th>Ticket</th>\n",
              "      <th>Fare</th>\n",
              "      <th>Cabin</th>\n",
              "      <th>Embarked</th>\n",
              "    </tr>\n",
              "  </thead>\n",
              "  <tbody>\n",
              "    <tr>\n",
              "      <th>0</th>\n",
              "      <td>892</td>\n",
              "      <td>3</td>\n",
              "      <td>Kelly, Mr. James</td>\n",
              "      <td>male</td>\n",
              "      <td>34.5</td>\n",
              "      <td>0</td>\n",
              "      <td>0</td>\n",
              "      <td>330911</td>\n",
              "      <td>7.8292</td>\n",
              "      <td>NaN</td>\n",
              "      <td>Q</td>\n",
              "    </tr>\n",
              "    <tr>\n",
              "      <th>1</th>\n",
              "      <td>893</td>\n",
              "      <td>3</td>\n",
              "      <td>Wilkes, Mrs. James (Ellen Needs)</td>\n",
              "      <td>female</td>\n",
              "      <td>47.0</td>\n",
              "      <td>1</td>\n",
              "      <td>0</td>\n",
              "      <td>363272</td>\n",
              "      <td>7.0000</td>\n",
              "      <td>NaN</td>\n",
              "      <td>S</td>\n",
              "    </tr>\n",
              "    <tr>\n",
              "      <th>2</th>\n",
              "      <td>894</td>\n",
              "      <td>2</td>\n",
              "      <td>Myles, Mr. Thomas Francis</td>\n",
              "      <td>male</td>\n",
              "      <td>62.0</td>\n",
              "      <td>0</td>\n",
              "      <td>0</td>\n",
              "      <td>240276</td>\n",
              "      <td>9.6875</td>\n",
              "      <td>NaN</td>\n",
              "      <td>Q</td>\n",
              "    </tr>\n",
              "    <tr>\n",
              "      <th>3</th>\n",
              "      <td>895</td>\n",
              "      <td>3</td>\n",
              "      <td>Wirz, Mr. Albert</td>\n",
              "      <td>male</td>\n",
              "      <td>27.0</td>\n",
              "      <td>0</td>\n",
              "      <td>0</td>\n",
              "      <td>315154</td>\n",
              "      <td>8.6625</td>\n",
              "      <td>NaN</td>\n",
              "      <td>S</td>\n",
              "    </tr>\n",
              "    <tr>\n",
              "      <th>4</th>\n",
              "      <td>896</td>\n",
              "      <td>3</td>\n",
              "      <td>Hirvonen, Mrs. Alexander (Helga E Lindqvist)</td>\n",
              "      <td>female</td>\n",
              "      <td>22.0</td>\n",
              "      <td>1</td>\n",
              "      <td>1</td>\n",
              "      <td>3101298</td>\n",
              "      <td>12.2875</td>\n",
              "      <td>NaN</td>\n",
              "      <td>S</td>\n",
              "    </tr>\n",
              "  </tbody>\n",
              "</table>\n",
              "</div>\n",
              "    <div class=\"colab-df-buttons\">\n",
              "\n",
              "  <div class=\"colab-df-container\">\n",
              "    <button class=\"colab-df-convert\" onclick=\"convertToInteractive('df-f109b06b-31dd-434e-8c66-d83bc16181db')\"\n",
              "            title=\"Convert this dataframe to an interactive table.\"\n",
              "            style=\"display:none;\">\n",
              "\n",
              "  <svg xmlns=\"http://www.w3.org/2000/svg\" height=\"24px\" viewBox=\"0 -960 960 960\">\n",
              "    <path d=\"M120-120v-720h720v720H120Zm60-500h600v-160H180v160Zm220 220h160v-160H400v160Zm0 220h160v-160H400v160ZM180-400h160v-160H180v160Zm440 0h160v-160H620v160ZM180-180h160v-160H180v160Zm440 0h160v-160H620v160Z\"/>\n",
              "  </svg>\n",
              "    </button>\n",
              "\n",
              "  <style>\n",
              "    .colab-df-container {\n",
              "      display:flex;\n",
              "      gap: 12px;\n",
              "    }\n",
              "\n",
              "    .colab-df-convert {\n",
              "      background-color: #E8F0FE;\n",
              "      border: none;\n",
              "      border-radius: 50%;\n",
              "      cursor: pointer;\n",
              "      display: none;\n",
              "      fill: #1967D2;\n",
              "      height: 32px;\n",
              "      padding: 0 0 0 0;\n",
              "      width: 32px;\n",
              "    }\n",
              "\n",
              "    .colab-df-convert:hover {\n",
              "      background-color: #E2EBFA;\n",
              "      box-shadow: 0px 1px 2px rgba(60, 64, 67, 0.3), 0px 1px 3px 1px rgba(60, 64, 67, 0.15);\n",
              "      fill: #174EA6;\n",
              "    }\n",
              "\n",
              "    .colab-df-buttons div {\n",
              "      margin-bottom: 4px;\n",
              "    }\n",
              "\n",
              "    [theme=dark] .colab-df-convert {\n",
              "      background-color: #3B4455;\n",
              "      fill: #D2E3FC;\n",
              "    }\n",
              "\n",
              "    [theme=dark] .colab-df-convert:hover {\n",
              "      background-color: #434B5C;\n",
              "      box-shadow: 0px 1px 3px 1px rgba(0, 0, 0, 0.15);\n",
              "      filter: drop-shadow(0px 1px 2px rgba(0, 0, 0, 0.3));\n",
              "      fill: #FFFFFF;\n",
              "    }\n",
              "  </style>\n",
              "\n",
              "    <script>\n",
              "      const buttonEl =\n",
              "        document.querySelector('#df-f109b06b-31dd-434e-8c66-d83bc16181db button.colab-df-convert');\n",
              "      buttonEl.style.display =\n",
              "        google.colab.kernel.accessAllowed ? 'block' : 'none';\n",
              "\n",
              "      async function convertToInteractive(key) {\n",
              "        const element = document.querySelector('#df-f109b06b-31dd-434e-8c66-d83bc16181db');\n",
              "        const dataTable =\n",
              "          await google.colab.kernel.invokeFunction('convertToInteractive',\n",
              "                                                    [key], {});\n",
              "        if (!dataTable) return;\n",
              "\n",
              "        const docLinkHtml = 'Like what you see? Visit the ' +\n",
              "          '<a target=\"_blank\" href=https://colab.research.google.com/notebooks/data_table.ipynb>data table notebook</a>'\n",
              "          + ' to learn more about interactive tables.';\n",
              "        element.innerHTML = '';\n",
              "        dataTable['output_type'] = 'display_data';\n",
              "        await google.colab.output.renderOutput(dataTable, element);\n",
              "        const docLink = document.createElement('div');\n",
              "        docLink.innerHTML = docLinkHtml;\n",
              "        element.appendChild(docLink);\n",
              "      }\n",
              "    </script>\n",
              "  </div>\n",
              "\n",
              "\n",
              "<div id=\"df-928eb5e5-bdf9-486a-b2e8-ab7a5926d4fd\">\n",
              "  <button class=\"colab-df-quickchart\" onclick=\"quickchart('df-928eb5e5-bdf9-486a-b2e8-ab7a5926d4fd')\"\n",
              "            title=\"Suggest charts\"\n",
              "            style=\"display:none;\">\n",
              "\n",
              "<svg xmlns=\"http://www.w3.org/2000/svg\" height=\"24px\"viewBox=\"0 0 24 24\"\n",
              "     width=\"24px\">\n",
              "    <g>\n",
              "        <path d=\"M19 3H5c-1.1 0-2 .9-2 2v14c0 1.1.9 2 2 2h14c1.1 0 2-.9 2-2V5c0-1.1-.9-2-2-2zM9 17H7v-7h2v7zm4 0h-2V7h2v10zm4 0h-2v-4h2v4z\"/>\n",
              "    </g>\n",
              "</svg>\n",
              "  </button>\n",
              "\n",
              "<style>\n",
              "  .colab-df-quickchart {\n",
              "      --bg-color: #E8F0FE;\n",
              "      --fill-color: #1967D2;\n",
              "      --hover-bg-color: #E2EBFA;\n",
              "      --hover-fill-color: #174EA6;\n",
              "      --disabled-fill-color: #AAA;\n",
              "      --disabled-bg-color: #DDD;\n",
              "  }\n",
              "\n",
              "  [theme=dark] .colab-df-quickchart {\n",
              "      --bg-color: #3B4455;\n",
              "      --fill-color: #D2E3FC;\n",
              "      --hover-bg-color: #434B5C;\n",
              "      --hover-fill-color: #FFFFFF;\n",
              "      --disabled-bg-color: #3B4455;\n",
              "      --disabled-fill-color: #666;\n",
              "  }\n",
              "\n",
              "  .colab-df-quickchart {\n",
              "    background-color: var(--bg-color);\n",
              "    border: none;\n",
              "    border-radius: 50%;\n",
              "    cursor: pointer;\n",
              "    display: none;\n",
              "    fill: var(--fill-color);\n",
              "    height: 32px;\n",
              "    padding: 0;\n",
              "    width: 32px;\n",
              "  }\n",
              "\n",
              "  .colab-df-quickchart:hover {\n",
              "    background-color: var(--hover-bg-color);\n",
              "    box-shadow: 0 1px 2px rgba(60, 64, 67, 0.3), 0 1px 3px 1px rgba(60, 64, 67, 0.15);\n",
              "    fill: var(--button-hover-fill-color);\n",
              "  }\n",
              "\n",
              "  .colab-df-quickchart-complete:disabled,\n",
              "  .colab-df-quickchart-complete:disabled:hover {\n",
              "    background-color: var(--disabled-bg-color);\n",
              "    fill: var(--disabled-fill-color);\n",
              "    box-shadow: none;\n",
              "  }\n",
              "\n",
              "  .colab-df-spinner {\n",
              "    border: 2px solid var(--fill-color);\n",
              "    border-color: transparent;\n",
              "    border-bottom-color: var(--fill-color);\n",
              "    animation:\n",
              "      spin 1s steps(1) infinite;\n",
              "  }\n",
              "\n",
              "  @keyframes spin {\n",
              "    0% {\n",
              "      border-color: transparent;\n",
              "      border-bottom-color: var(--fill-color);\n",
              "      border-left-color: var(--fill-color);\n",
              "    }\n",
              "    20% {\n",
              "      border-color: transparent;\n",
              "      border-left-color: var(--fill-color);\n",
              "      border-top-color: var(--fill-color);\n",
              "    }\n",
              "    30% {\n",
              "      border-color: transparent;\n",
              "      border-left-color: var(--fill-color);\n",
              "      border-top-color: var(--fill-color);\n",
              "      border-right-color: var(--fill-color);\n",
              "    }\n",
              "    40% {\n",
              "      border-color: transparent;\n",
              "      border-right-color: var(--fill-color);\n",
              "      border-top-color: var(--fill-color);\n",
              "    }\n",
              "    60% {\n",
              "      border-color: transparent;\n",
              "      border-right-color: var(--fill-color);\n",
              "    }\n",
              "    80% {\n",
              "      border-color: transparent;\n",
              "      border-right-color: var(--fill-color);\n",
              "      border-bottom-color: var(--fill-color);\n",
              "    }\n",
              "    90% {\n",
              "      border-color: transparent;\n",
              "      border-bottom-color: var(--fill-color);\n",
              "    }\n",
              "  }\n",
              "</style>\n",
              "\n",
              "  <script>\n",
              "    async function quickchart(key) {\n",
              "      const quickchartButtonEl =\n",
              "        document.querySelector('#' + key + ' button');\n",
              "      quickchartButtonEl.disabled = true;  // To prevent multiple clicks.\n",
              "      quickchartButtonEl.classList.add('colab-df-spinner');\n",
              "      try {\n",
              "        const charts = await google.colab.kernel.invokeFunction(\n",
              "            'suggestCharts', [key], {});\n",
              "      } catch (error) {\n",
              "        console.error('Error during call to suggestCharts:', error);\n",
              "      }\n",
              "      quickchartButtonEl.classList.remove('colab-df-spinner');\n",
              "      quickchartButtonEl.classList.add('colab-df-quickchart-complete');\n",
              "    }\n",
              "    (() => {\n",
              "      let quickchartButtonEl =\n",
              "        document.querySelector('#df-928eb5e5-bdf9-486a-b2e8-ab7a5926d4fd button');\n",
              "      quickchartButtonEl.style.display =\n",
              "        google.colab.kernel.accessAllowed ? 'block' : 'none';\n",
              "    })();\n",
              "  </script>\n",
              "</div>\n",
              "\n",
              "    </div>\n",
              "  </div>\n"
            ],
            "application/vnd.google.colaboratory.intrinsic+json": {
              "type": "dataframe",
              "variable_name": "test",
              "summary": "{\n  \"name\": \"test\",\n  \"rows\": 418,\n  \"fields\": [\n    {\n      \"column\": \"PassengerId\",\n      \"properties\": {\n        \"dtype\": \"number\",\n        \"std\": 120,\n        \"min\": 892,\n        \"max\": 1309,\n        \"num_unique_values\": 418,\n        \"samples\": [\n          1213,\n          1216,\n          1280\n        ],\n        \"semantic_type\": \"\",\n        \"description\": \"\"\n      }\n    },\n    {\n      \"column\": \"Pclass\",\n      \"properties\": {\n        \"dtype\": \"number\",\n        \"std\": 0,\n        \"min\": 1,\n        \"max\": 3,\n        \"num_unique_values\": 3,\n        \"samples\": [\n          3,\n          2,\n          1\n        ],\n        \"semantic_type\": \"\",\n        \"description\": \"\"\n      }\n    },\n    {\n      \"column\": \"Name\",\n      \"properties\": {\n        \"dtype\": \"string\",\n        \"num_unique_values\": 418,\n        \"samples\": [\n          \"Krekorian, Mr. Neshan\",\n          \"Kreuchen, Miss. Emilie\",\n          \"Canavan, Mr. Patrick\"\n        ],\n        \"semantic_type\": \"\",\n        \"description\": \"\"\n      }\n    },\n    {\n      \"column\": \"Sex\",\n      \"properties\": {\n        \"dtype\": \"category\",\n        \"num_unique_values\": 2,\n        \"samples\": [\n          \"female\",\n          \"male\"\n        ],\n        \"semantic_type\": \"\",\n        \"description\": \"\"\n      }\n    },\n    {\n      \"column\": \"Age\",\n      \"properties\": {\n        \"dtype\": \"number\",\n        \"std\": 14.181209235624422,\n        \"min\": 0.17,\n        \"max\": 76.0,\n        \"num_unique_values\": 79,\n        \"samples\": [\n          10.0,\n          34.5\n        ],\n        \"semantic_type\": \"\",\n        \"description\": \"\"\n      }\n    },\n    {\n      \"column\": \"SibSp\",\n      \"properties\": {\n        \"dtype\": \"number\",\n        \"std\": 0,\n        \"min\": 0,\n        \"max\": 8,\n        \"num_unique_values\": 7,\n        \"samples\": [\n          0,\n          1\n        ],\n        \"semantic_type\": \"\",\n        \"description\": \"\"\n      }\n    },\n    {\n      \"column\": \"Parch\",\n      \"properties\": {\n        \"dtype\": \"number\",\n        \"std\": 0,\n        \"min\": 0,\n        \"max\": 9,\n        \"num_unique_values\": 8,\n        \"samples\": [\n          1,\n          6\n        ],\n        \"semantic_type\": \"\",\n        \"description\": \"\"\n      }\n    },\n    {\n      \"column\": \"Ticket\",\n      \"properties\": {\n        \"dtype\": \"string\",\n        \"num_unique_values\": 363,\n        \"samples\": [\n          \"2673\",\n          \"W./C. 6607\"\n        ],\n        \"semantic_type\": \"\",\n        \"description\": \"\"\n      }\n    },\n    {\n      \"column\": \"Fare\",\n      \"properties\": {\n        \"dtype\": \"number\",\n        \"std\": 55.907576179973844,\n        \"min\": 0.0,\n        \"max\": 512.3292,\n        \"num_unique_values\": 169,\n        \"samples\": [\n          41.5792,\n          57.75\n        ],\n        \"semantic_type\": \"\",\n        \"description\": \"\"\n      }\n    },\n    {\n      \"column\": \"Cabin\",\n      \"properties\": {\n        \"dtype\": \"category\",\n        \"num_unique_values\": 76,\n        \"samples\": [\n          \"A21\",\n          \"E45\"\n        ],\n        \"semantic_type\": \"\",\n        \"description\": \"\"\n      }\n    },\n    {\n      \"column\": \"Embarked\",\n      \"properties\": {\n        \"dtype\": \"category\",\n        \"num_unique_values\": 3,\n        \"samples\": [\n          \"Q\",\n          \"S\"\n        ],\n        \"semantic_type\": \"\",\n        \"description\": \"\"\n      }\n    }\n  ]\n}"
            }
          },
          "metadata": {},
          "execution_count": 99
        }
      ]
    },
    {
      "cell_type": "markdown",
      "source": [
        "Согласно кагглу мы имеем:\n",
        "\n",
        "Pclass - социально-экономический класс пассажиров, имеющий 3 значения:\n",
        "\n",
        "1 - высокий\n",
        "\n",
        "2 - средний\n",
        "\n",
        "3 - низкий"
      ],
      "metadata": {
        "id": "XT2sykPAll1I"
      }
    },
    {
      "cell_type": "markdown",
      "source": [
        "Sex - пол: male/female\n",
        "\n",
        "Age - возраст: дробное значение, если меньше года. Если возраст примерный, то значение также имеет дробь.\n",
        "\n",
        "Sibsp - кол-во братьев/сестёр или супругов у пассажира\n",
        "\n",
        "Parch - кол-во родителей и детей у пассажира\n",
        "\n",
        "Ticket - номер билета\n",
        "\n",
        "Fare - стоимость проезда у пассажиров\n",
        "\n",
        "Cabin - номер кабины\n",
        "\n",
        "Embarked - порт посадки:\n",
        "C = Cherbourg, Q = Queenstown, S = Southampton"
      ],
      "metadata": {
        "id": "USEMm0LnmUqb"
      }
    },
    {
      "cell_type": "markdown",
      "source": [
        "Нашим же целевым признаком является **Survived**\n",
        "\n",
        "Survived - выжил пассажир после крушения \"Титаника\" или нет: 1 - выжил, 0 - нет."
      ],
      "metadata": {
        "id": "mXB1X0ublNMV"
      }
    },
    {
      "cell_type": "markdown",
      "source": [
        "## EDA"
      ],
      "metadata": {
        "id": "Ph8Hr3OspbL0"
      }
    },
    {
      "cell_type": "markdown",
      "source": [
        "Проверим базовую информацию о данных. Для начала займёмся обучающей выборкой."
      ],
      "metadata": {
        "id": "H0W70W8ApeEu"
      }
    },
    {
      "cell_type": "code",
      "source": [
        "train.info()"
      ],
      "metadata": {
        "colab": {
          "base_uri": "https://localhost:8080/"
        },
        "id": "yfKj9SWppnkQ",
        "outputId": "e2ade911-237b-4ddf-9d37-88c65585e0b6"
      },
      "execution_count": null,
      "outputs": [
        {
          "output_type": "stream",
          "name": "stdout",
          "text": [
            "<class 'pandas.core.frame.DataFrame'>\n",
            "RangeIndex: 891 entries, 0 to 890\n",
            "Data columns (total 12 columns):\n",
            " #   Column       Non-Null Count  Dtype  \n",
            "---  ------       --------------  -----  \n",
            " 0   PassengerId  891 non-null    int64  \n",
            " 1   Survived     891 non-null    int64  \n",
            " 2   Pclass       891 non-null    int64  \n",
            " 3   Name         891 non-null    object \n",
            " 4   Sex          891 non-null    object \n",
            " 5   Age          714 non-null    float64\n",
            " 6   SibSp        891 non-null    int64  \n",
            " 7   Parch        891 non-null    int64  \n",
            " 8   Ticket       891 non-null    object \n",
            " 9   Fare         891 non-null    float64\n",
            " 10  Cabin        204 non-null    object \n",
            " 11  Embarked     889 non-null    object \n",
            "dtypes: float64(2), int64(5), object(5)\n",
            "memory usage: 83.7+ KB\n"
          ]
        }
      ]
    },
    {
      "cell_type": "markdown",
      "source": [
        "В целом датасет достаточно полный, за исключением, разве что, номера кабины."
      ],
      "metadata": {
        "id": "Q4zH7FieqI5T"
      }
    },
    {
      "cell_type": "code",
      "source": [
        "round(train.Cabin.count() / train.shape[0], 2)"
      ],
      "metadata": {
        "colab": {
          "base_uri": "https://localhost:8080/"
        },
        "id": "sCXtSah-rVQb",
        "outputId": "94092b74-a7e3-46df-d7a0-3d40bebcc91d"
      },
      "execution_count": null,
      "outputs": [
        {
          "output_type": "execute_result",
          "data": {
            "text/plain": [
              "0.23"
            ]
          },
          "metadata": {},
          "execution_count": 101
        }
      ]
    },
    {
      "cell_type": "markdown",
      "source": [
        "23% непропущенных данных - это крайне мало и неинформативно, потому мы избавимся от данного признака."
      ],
      "metadata": {
        "id": "lhGY3dJprsYM"
      }
    },
    {
      "cell_type": "code",
      "source": [
        "train = train.drop('Cabin', axis=1)"
      ],
      "metadata": {
        "id": "a1eqPusZwLX2"
      },
      "execution_count": null,
      "outputs": []
    },
    {
      "cell_type": "markdown",
      "source": [
        "Что касательно возраста - на текущем этапе мы можем заменить его на медианное значение, что, хоть и имеет возможность подпортить наши значения, зато сохранит другие важные данные. В любом случае от этого признака можно будем избавиться в будущем."
      ],
      "metadata": {
        "id": "GGNfpNKjsgcm"
      }
    },
    {
      "cell_type": "code",
      "source": [
        "age_median = train.Age.median()\n",
        "train.Age = train.Age.fillna(age_median)"
      ],
      "metadata": {
        "id": "mR_yvlnKsd7M"
      },
      "execution_count": null,
      "outputs": []
    },
    {
      "cell_type": "code",
      "source": [
        "train"
      ],
      "metadata": {
        "colab": {
          "base_uri": "https://localhost:8080/",
          "height": 423
        },
        "id": "SQuRNKEctOfg",
        "outputId": "3c9022aa-bd66-48f9-b2a4-eb76697d9a51"
      },
      "execution_count": null,
      "outputs": [
        {
          "output_type": "execute_result",
          "data": {
            "text/plain": [
              "     PassengerId  Survived  Pclass  \\\n",
              "0              1         0       3   \n",
              "1              2         1       1   \n",
              "2              3         1       3   \n",
              "3              4         1       1   \n",
              "4              5         0       3   \n",
              "..           ...       ...     ...   \n",
              "886          887         0       2   \n",
              "887          888         1       1   \n",
              "888          889         0       3   \n",
              "889          890         1       1   \n",
              "890          891         0       3   \n",
              "\n",
              "                                                  Name     Sex   Age  SibSp  \\\n",
              "0                              Braund, Mr. Owen Harris    male  22.0      1   \n",
              "1    Cumings, Mrs. John Bradley (Florence Briggs Th...  female  38.0      1   \n",
              "2                               Heikkinen, Miss. Laina  female  26.0      0   \n",
              "3         Futrelle, Mrs. Jacques Heath (Lily May Peel)  female  35.0      1   \n",
              "4                             Allen, Mr. William Henry    male  35.0      0   \n",
              "..                                                 ...     ...   ...    ...   \n",
              "886                              Montvila, Rev. Juozas    male  27.0      0   \n",
              "887                       Graham, Miss. Margaret Edith  female  19.0      0   \n",
              "888           Johnston, Miss. Catherine Helen \"Carrie\"  female  28.0      1   \n",
              "889                              Behr, Mr. Karl Howell    male  26.0      0   \n",
              "890                                Dooley, Mr. Patrick    male  32.0      0   \n",
              "\n",
              "     Parch            Ticket     Fare Embarked  \n",
              "0        0         A/5 21171   7.2500        S  \n",
              "1        0          PC 17599  71.2833        C  \n",
              "2        0  STON/O2. 3101282   7.9250        S  \n",
              "3        0            113803  53.1000        S  \n",
              "4        0            373450   8.0500        S  \n",
              "..     ...               ...      ...      ...  \n",
              "886      0            211536  13.0000        S  \n",
              "887      0            112053  30.0000        S  \n",
              "888      2        W./C. 6607  23.4500        S  \n",
              "889      0            111369  30.0000        C  \n",
              "890      0            370376   7.7500        Q  \n",
              "\n",
              "[891 rows x 11 columns]"
            ],
            "text/html": [
              "\n",
              "  <div id=\"df-1e11dbc7-f1fb-4814-92c1-a7992ffdd6ea\" class=\"colab-df-container\">\n",
              "    <div>\n",
              "<style scoped>\n",
              "    .dataframe tbody tr th:only-of-type {\n",
              "        vertical-align: middle;\n",
              "    }\n",
              "\n",
              "    .dataframe tbody tr th {\n",
              "        vertical-align: top;\n",
              "    }\n",
              "\n",
              "    .dataframe thead th {\n",
              "        text-align: right;\n",
              "    }\n",
              "</style>\n",
              "<table border=\"1\" class=\"dataframe\">\n",
              "  <thead>\n",
              "    <tr style=\"text-align: right;\">\n",
              "      <th></th>\n",
              "      <th>PassengerId</th>\n",
              "      <th>Survived</th>\n",
              "      <th>Pclass</th>\n",
              "      <th>Name</th>\n",
              "      <th>Sex</th>\n",
              "      <th>Age</th>\n",
              "      <th>SibSp</th>\n",
              "      <th>Parch</th>\n",
              "      <th>Ticket</th>\n",
              "      <th>Fare</th>\n",
              "      <th>Embarked</th>\n",
              "    </tr>\n",
              "  </thead>\n",
              "  <tbody>\n",
              "    <tr>\n",
              "      <th>0</th>\n",
              "      <td>1</td>\n",
              "      <td>0</td>\n",
              "      <td>3</td>\n",
              "      <td>Braund, Mr. Owen Harris</td>\n",
              "      <td>male</td>\n",
              "      <td>22.0</td>\n",
              "      <td>1</td>\n",
              "      <td>0</td>\n",
              "      <td>A/5 21171</td>\n",
              "      <td>7.2500</td>\n",
              "      <td>S</td>\n",
              "    </tr>\n",
              "    <tr>\n",
              "      <th>1</th>\n",
              "      <td>2</td>\n",
              "      <td>1</td>\n",
              "      <td>1</td>\n",
              "      <td>Cumings, Mrs. John Bradley (Florence Briggs Th...</td>\n",
              "      <td>female</td>\n",
              "      <td>38.0</td>\n",
              "      <td>1</td>\n",
              "      <td>0</td>\n",
              "      <td>PC 17599</td>\n",
              "      <td>71.2833</td>\n",
              "      <td>C</td>\n",
              "    </tr>\n",
              "    <tr>\n",
              "      <th>2</th>\n",
              "      <td>3</td>\n",
              "      <td>1</td>\n",
              "      <td>3</td>\n",
              "      <td>Heikkinen, Miss. Laina</td>\n",
              "      <td>female</td>\n",
              "      <td>26.0</td>\n",
              "      <td>0</td>\n",
              "      <td>0</td>\n",
              "      <td>STON/O2. 3101282</td>\n",
              "      <td>7.9250</td>\n",
              "      <td>S</td>\n",
              "    </tr>\n",
              "    <tr>\n",
              "      <th>3</th>\n",
              "      <td>4</td>\n",
              "      <td>1</td>\n",
              "      <td>1</td>\n",
              "      <td>Futrelle, Mrs. Jacques Heath (Lily May Peel)</td>\n",
              "      <td>female</td>\n",
              "      <td>35.0</td>\n",
              "      <td>1</td>\n",
              "      <td>0</td>\n",
              "      <td>113803</td>\n",
              "      <td>53.1000</td>\n",
              "      <td>S</td>\n",
              "    </tr>\n",
              "    <tr>\n",
              "      <th>4</th>\n",
              "      <td>5</td>\n",
              "      <td>0</td>\n",
              "      <td>3</td>\n",
              "      <td>Allen, Mr. William Henry</td>\n",
              "      <td>male</td>\n",
              "      <td>35.0</td>\n",
              "      <td>0</td>\n",
              "      <td>0</td>\n",
              "      <td>373450</td>\n",
              "      <td>8.0500</td>\n",
              "      <td>S</td>\n",
              "    </tr>\n",
              "    <tr>\n",
              "      <th>...</th>\n",
              "      <td>...</td>\n",
              "      <td>...</td>\n",
              "      <td>...</td>\n",
              "      <td>...</td>\n",
              "      <td>...</td>\n",
              "      <td>...</td>\n",
              "      <td>...</td>\n",
              "      <td>...</td>\n",
              "      <td>...</td>\n",
              "      <td>...</td>\n",
              "      <td>...</td>\n",
              "    </tr>\n",
              "    <tr>\n",
              "      <th>886</th>\n",
              "      <td>887</td>\n",
              "      <td>0</td>\n",
              "      <td>2</td>\n",
              "      <td>Montvila, Rev. Juozas</td>\n",
              "      <td>male</td>\n",
              "      <td>27.0</td>\n",
              "      <td>0</td>\n",
              "      <td>0</td>\n",
              "      <td>211536</td>\n",
              "      <td>13.0000</td>\n",
              "      <td>S</td>\n",
              "    </tr>\n",
              "    <tr>\n",
              "      <th>887</th>\n",
              "      <td>888</td>\n",
              "      <td>1</td>\n",
              "      <td>1</td>\n",
              "      <td>Graham, Miss. Margaret Edith</td>\n",
              "      <td>female</td>\n",
              "      <td>19.0</td>\n",
              "      <td>0</td>\n",
              "      <td>0</td>\n",
              "      <td>112053</td>\n",
              "      <td>30.0000</td>\n",
              "      <td>S</td>\n",
              "    </tr>\n",
              "    <tr>\n",
              "      <th>888</th>\n",
              "      <td>889</td>\n",
              "      <td>0</td>\n",
              "      <td>3</td>\n",
              "      <td>Johnston, Miss. Catherine Helen \"Carrie\"</td>\n",
              "      <td>female</td>\n",
              "      <td>28.0</td>\n",
              "      <td>1</td>\n",
              "      <td>2</td>\n",
              "      <td>W./C. 6607</td>\n",
              "      <td>23.4500</td>\n",
              "      <td>S</td>\n",
              "    </tr>\n",
              "    <tr>\n",
              "      <th>889</th>\n",
              "      <td>890</td>\n",
              "      <td>1</td>\n",
              "      <td>1</td>\n",
              "      <td>Behr, Mr. Karl Howell</td>\n",
              "      <td>male</td>\n",
              "      <td>26.0</td>\n",
              "      <td>0</td>\n",
              "      <td>0</td>\n",
              "      <td>111369</td>\n",
              "      <td>30.0000</td>\n",
              "      <td>C</td>\n",
              "    </tr>\n",
              "    <tr>\n",
              "      <th>890</th>\n",
              "      <td>891</td>\n",
              "      <td>0</td>\n",
              "      <td>3</td>\n",
              "      <td>Dooley, Mr. Patrick</td>\n",
              "      <td>male</td>\n",
              "      <td>32.0</td>\n",
              "      <td>0</td>\n",
              "      <td>0</td>\n",
              "      <td>370376</td>\n",
              "      <td>7.7500</td>\n",
              "      <td>Q</td>\n",
              "    </tr>\n",
              "  </tbody>\n",
              "</table>\n",
              "<p>891 rows × 11 columns</p>\n",
              "</div>\n",
              "    <div class=\"colab-df-buttons\">\n",
              "\n",
              "  <div class=\"colab-df-container\">\n",
              "    <button class=\"colab-df-convert\" onclick=\"convertToInteractive('df-1e11dbc7-f1fb-4814-92c1-a7992ffdd6ea')\"\n",
              "            title=\"Convert this dataframe to an interactive table.\"\n",
              "            style=\"display:none;\">\n",
              "\n",
              "  <svg xmlns=\"http://www.w3.org/2000/svg\" height=\"24px\" viewBox=\"0 -960 960 960\">\n",
              "    <path d=\"M120-120v-720h720v720H120Zm60-500h600v-160H180v160Zm220 220h160v-160H400v160Zm0 220h160v-160H400v160ZM180-400h160v-160H180v160Zm440 0h160v-160H620v160ZM180-180h160v-160H180v160Zm440 0h160v-160H620v160Z\"/>\n",
              "  </svg>\n",
              "    </button>\n",
              "\n",
              "  <style>\n",
              "    .colab-df-container {\n",
              "      display:flex;\n",
              "      gap: 12px;\n",
              "    }\n",
              "\n",
              "    .colab-df-convert {\n",
              "      background-color: #E8F0FE;\n",
              "      border: none;\n",
              "      border-radius: 50%;\n",
              "      cursor: pointer;\n",
              "      display: none;\n",
              "      fill: #1967D2;\n",
              "      height: 32px;\n",
              "      padding: 0 0 0 0;\n",
              "      width: 32px;\n",
              "    }\n",
              "\n",
              "    .colab-df-convert:hover {\n",
              "      background-color: #E2EBFA;\n",
              "      box-shadow: 0px 1px 2px rgba(60, 64, 67, 0.3), 0px 1px 3px 1px rgba(60, 64, 67, 0.15);\n",
              "      fill: #174EA6;\n",
              "    }\n",
              "\n",
              "    .colab-df-buttons div {\n",
              "      margin-bottom: 4px;\n",
              "    }\n",
              "\n",
              "    [theme=dark] .colab-df-convert {\n",
              "      background-color: #3B4455;\n",
              "      fill: #D2E3FC;\n",
              "    }\n",
              "\n",
              "    [theme=dark] .colab-df-convert:hover {\n",
              "      background-color: #434B5C;\n",
              "      box-shadow: 0px 1px 3px 1px rgba(0, 0, 0, 0.15);\n",
              "      filter: drop-shadow(0px 1px 2px rgba(0, 0, 0, 0.3));\n",
              "      fill: #FFFFFF;\n",
              "    }\n",
              "  </style>\n",
              "\n",
              "    <script>\n",
              "      const buttonEl =\n",
              "        document.querySelector('#df-1e11dbc7-f1fb-4814-92c1-a7992ffdd6ea button.colab-df-convert');\n",
              "      buttonEl.style.display =\n",
              "        google.colab.kernel.accessAllowed ? 'block' : 'none';\n",
              "\n",
              "      async function convertToInteractive(key) {\n",
              "        const element = document.querySelector('#df-1e11dbc7-f1fb-4814-92c1-a7992ffdd6ea');\n",
              "        const dataTable =\n",
              "          await google.colab.kernel.invokeFunction('convertToInteractive',\n",
              "                                                    [key], {});\n",
              "        if (!dataTable) return;\n",
              "\n",
              "        const docLinkHtml = 'Like what you see? Visit the ' +\n",
              "          '<a target=\"_blank\" href=https://colab.research.google.com/notebooks/data_table.ipynb>data table notebook</a>'\n",
              "          + ' to learn more about interactive tables.';\n",
              "        element.innerHTML = '';\n",
              "        dataTable['output_type'] = 'display_data';\n",
              "        await google.colab.output.renderOutput(dataTable, element);\n",
              "        const docLink = document.createElement('div');\n",
              "        docLink.innerHTML = docLinkHtml;\n",
              "        element.appendChild(docLink);\n",
              "      }\n",
              "    </script>\n",
              "  </div>\n",
              "\n",
              "\n",
              "<div id=\"df-735f0975-992a-452b-b5cf-23837a814c3e\">\n",
              "  <button class=\"colab-df-quickchart\" onclick=\"quickchart('df-735f0975-992a-452b-b5cf-23837a814c3e')\"\n",
              "            title=\"Suggest charts\"\n",
              "            style=\"display:none;\">\n",
              "\n",
              "<svg xmlns=\"http://www.w3.org/2000/svg\" height=\"24px\"viewBox=\"0 0 24 24\"\n",
              "     width=\"24px\">\n",
              "    <g>\n",
              "        <path d=\"M19 3H5c-1.1 0-2 .9-2 2v14c0 1.1.9 2 2 2h14c1.1 0 2-.9 2-2V5c0-1.1-.9-2-2-2zM9 17H7v-7h2v7zm4 0h-2V7h2v10zm4 0h-2v-4h2v4z\"/>\n",
              "    </g>\n",
              "</svg>\n",
              "  </button>\n",
              "\n",
              "<style>\n",
              "  .colab-df-quickchart {\n",
              "      --bg-color: #E8F0FE;\n",
              "      --fill-color: #1967D2;\n",
              "      --hover-bg-color: #E2EBFA;\n",
              "      --hover-fill-color: #174EA6;\n",
              "      --disabled-fill-color: #AAA;\n",
              "      --disabled-bg-color: #DDD;\n",
              "  }\n",
              "\n",
              "  [theme=dark] .colab-df-quickchart {\n",
              "      --bg-color: #3B4455;\n",
              "      --fill-color: #D2E3FC;\n",
              "      --hover-bg-color: #434B5C;\n",
              "      --hover-fill-color: #FFFFFF;\n",
              "      --disabled-bg-color: #3B4455;\n",
              "      --disabled-fill-color: #666;\n",
              "  }\n",
              "\n",
              "  .colab-df-quickchart {\n",
              "    background-color: var(--bg-color);\n",
              "    border: none;\n",
              "    border-radius: 50%;\n",
              "    cursor: pointer;\n",
              "    display: none;\n",
              "    fill: var(--fill-color);\n",
              "    height: 32px;\n",
              "    padding: 0;\n",
              "    width: 32px;\n",
              "  }\n",
              "\n",
              "  .colab-df-quickchart:hover {\n",
              "    background-color: var(--hover-bg-color);\n",
              "    box-shadow: 0 1px 2px rgba(60, 64, 67, 0.3), 0 1px 3px 1px rgba(60, 64, 67, 0.15);\n",
              "    fill: var(--button-hover-fill-color);\n",
              "  }\n",
              "\n",
              "  .colab-df-quickchart-complete:disabled,\n",
              "  .colab-df-quickchart-complete:disabled:hover {\n",
              "    background-color: var(--disabled-bg-color);\n",
              "    fill: var(--disabled-fill-color);\n",
              "    box-shadow: none;\n",
              "  }\n",
              "\n",
              "  .colab-df-spinner {\n",
              "    border: 2px solid var(--fill-color);\n",
              "    border-color: transparent;\n",
              "    border-bottom-color: var(--fill-color);\n",
              "    animation:\n",
              "      spin 1s steps(1) infinite;\n",
              "  }\n",
              "\n",
              "  @keyframes spin {\n",
              "    0% {\n",
              "      border-color: transparent;\n",
              "      border-bottom-color: var(--fill-color);\n",
              "      border-left-color: var(--fill-color);\n",
              "    }\n",
              "    20% {\n",
              "      border-color: transparent;\n",
              "      border-left-color: var(--fill-color);\n",
              "      border-top-color: var(--fill-color);\n",
              "    }\n",
              "    30% {\n",
              "      border-color: transparent;\n",
              "      border-left-color: var(--fill-color);\n",
              "      border-top-color: var(--fill-color);\n",
              "      border-right-color: var(--fill-color);\n",
              "    }\n",
              "    40% {\n",
              "      border-color: transparent;\n",
              "      border-right-color: var(--fill-color);\n",
              "      border-top-color: var(--fill-color);\n",
              "    }\n",
              "    60% {\n",
              "      border-color: transparent;\n",
              "      border-right-color: var(--fill-color);\n",
              "    }\n",
              "    80% {\n",
              "      border-color: transparent;\n",
              "      border-right-color: var(--fill-color);\n",
              "      border-bottom-color: var(--fill-color);\n",
              "    }\n",
              "    90% {\n",
              "      border-color: transparent;\n",
              "      border-bottom-color: var(--fill-color);\n",
              "    }\n",
              "  }\n",
              "</style>\n",
              "\n",
              "  <script>\n",
              "    async function quickchart(key) {\n",
              "      const quickchartButtonEl =\n",
              "        document.querySelector('#' + key + ' button');\n",
              "      quickchartButtonEl.disabled = true;  // To prevent multiple clicks.\n",
              "      quickchartButtonEl.classList.add('colab-df-spinner');\n",
              "      try {\n",
              "        const charts = await google.colab.kernel.invokeFunction(\n",
              "            'suggestCharts', [key], {});\n",
              "      } catch (error) {\n",
              "        console.error('Error during call to suggestCharts:', error);\n",
              "      }\n",
              "      quickchartButtonEl.classList.remove('colab-df-spinner');\n",
              "      quickchartButtonEl.classList.add('colab-df-quickchart-complete');\n",
              "    }\n",
              "    (() => {\n",
              "      let quickchartButtonEl =\n",
              "        document.querySelector('#df-735f0975-992a-452b-b5cf-23837a814c3e button');\n",
              "      quickchartButtonEl.style.display =\n",
              "        google.colab.kernel.accessAllowed ? 'block' : 'none';\n",
              "    })();\n",
              "  </script>\n",
              "</div>\n",
              "\n",
              "  <div id=\"id_b31aa78f-e90a-4cb7-aeb4-e2b9b3120915\">\n",
              "    <style>\n",
              "      .colab-df-generate {\n",
              "        background-color: #E8F0FE;\n",
              "        border: none;\n",
              "        border-radius: 50%;\n",
              "        cursor: pointer;\n",
              "        display: none;\n",
              "        fill: #1967D2;\n",
              "        height: 32px;\n",
              "        padding: 0 0 0 0;\n",
              "        width: 32px;\n",
              "      }\n",
              "\n",
              "      .colab-df-generate:hover {\n",
              "        background-color: #E2EBFA;\n",
              "        box-shadow: 0px 1px 2px rgba(60, 64, 67, 0.3), 0px 1px 3px 1px rgba(60, 64, 67, 0.15);\n",
              "        fill: #174EA6;\n",
              "      }\n",
              "\n",
              "      [theme=dark] .colab-df-generate {\n",
              "        background-color: #3B4455;\n",
              "        fill: #D2E3FC;\n",
              "      }\n",
              "\n",
              "      [theme=dark] .colab-df-generate:hover {\n",
              "        background-color: #434B5C;\n",
              "        box-shadow: 0px 1px 3px 1px rgba(0, 0, 0, 0.15);\n",
              "        filter: drop-shadow(0px 1px 2px rgba(0, 0, 0, 0.3));\n",
              "        fill: #FFFFFF;\n",
              "      }\n",
              "    </style>\n",
              "    <button class=\"colab-df-generate\" onclick=\"generateWithVariable('train')\"\n",
              "            title=\"Generate code using this dataframe.\"\n",
              "            style=\"display:none;\">\n",
              "\n",
              "  <svg xmlns=\"http://www.w3.org/2000/svg\" height=\"24px\"viewBox=\"0 0 24 24\"\n",
              "       width=\"24px\">\n",
              "    <path d=\"M7,19H8.4L18.45,9,17,7.55,7,17.6ZM5,21V16.75L18.45,3.32a2,2,0,0,1,2.83,0l1.4,1.43a1.91,1.91,0,0,1,.58,1.4,1.91,1.91,0,0,1-.58,1.4L9.25,21ZM18.45,9,17,7.55Zm-12,3A5.31,5.31,0,0,0,4.9,8.1,5.31,5.31,0,0,0,1,6.5,5.31,5.31,0,0,0,4.9,4.9,5.31,5.31,0,0,0,6.5,1,5.31,5.31,0,0,0,8.1,4.9,5.31,5.31,0,0,0,12,6.5,5.46,5.46,0,0,0,6.5,12Z\"/>\n",
              "  </svg>\n",
              "    </button>\n",
              "    <script>\n",
              "      (() => {\n",
              "      const buttonEl =\n",
              "        document.querySelector('#id_b31aa78f-e90a-4cb7-aeb4-e2b9b3120915 button.colab-df-generate');\n",
              "      buttonEl.style.display =\n",
              "        google.colab.kernel.accessAllowed ? 'block' : 'none';\n",
              "\n",
              "      buttonEl.onclick = () => {\n",
              "        google.colab.notebook.generateWithVariable('train');\n",
              "      }\n",
              "      })();\n",
              "    </script>\n",
              "  </div>\n",
              "\n",
              "    </div>\n",
              "  </div>\n"
            ],
            "application/vnd.google.colaboratory.intrinsic+json": {
              "type": "dataframe",
              "variable_name": "train",
              "summary": "{\n  \"name\": \"train\",\n  \"rows\": 891,\n  \"fields\": [\n    {\n      \"column\": \"PassengerId\",\n      \"properties\": {\n        \"dtype\": \"number\",\n        \"std\": 257,\n        \"min\": 1,\n        \"max\": 891,\n        \"num_unique_values\": 891,\n        \"samples\": [\n          710,\n          440,\n          841\n        ],\n        \"semantic_type\": \"\",\n        \"description\": \"\"\n      }\n    },\n    {\n      \"column\": \"Survived\",\n      \"properties\": {\n        \"dtype\": \"number\",\n        \"std\": 0,\n        \"min\": 0,\n        \"max\": 1,\n        \"num_unique_values\": 2,\n        \"samples\": [\n          1,\n          0\n        ],\n        \"semantic_type\": \"\",\n        \"description\": \"\"\n      }\n    },\n    {\n      \"column\": \"Pclass\",\n      \"properties\": {\n        \"dtype\": \"number\",\n        \"std\": 0,\n        \"min\": 1,\n        \"max\": 3,\n        \"num_unique_values\": 3,\n        \"samples\": [\n          3,\n          1\n        ],\n        \"semantic_type\": \"\",\n        \"description\": \"\"\n      }\n    },\n    {\n      \"column\": \"Name\",\n      \"properties\": {\n        \"dtype\": \"string\",\n        \"num_unique_values\": 891,\n        \"samples\": [\n          \"Moubarek, Master. Halim Gonios (\\\"William George\\\")\",\n          \"Kvillner, Mr. Johan Henrik Johannesson\"\n        ],\n        \"semantic_type\": \"\",\n        \"description\": \"\"\n      }\n    },\n    {\n      \"column\": \"Sex\",\n      \"properties\": {\n        \"dtype\": \"category\",\n        \"num_unique_values\": 2,\n        \"samples\": [\n          \"female\",\n          \"male\"\n        ],\n        \"semantic_type\": \"\",\n        \"description\": \"\"\n      }\n    },\n    {\n      \"column\": \"Age\",\n      \"properties\": {\n        \"dtype\": \"number\",\n        \"std\": 13.019696550973201,\n        \"min\": 0.42,\n        \"max\": 80.0,\n        \"num_unique_values\": 88,\n        \"samples\": [\n          0.75,\n          22.0\n        ],\n        \"semantic_type\": \"\",\n        \"description\": \"\"\n      }\n    },\n    {\n      \"column\": \"SibSp\",\n      \"properties\": {\n        \"dtype\": \"number\",\n        \"std\": 1,\n        \"min\": 0,\n        \"max\": 8,\n        \"num_unique_values\": 7,\n        \"samples\": [\n          1,\n          0\n        ],\n        \"semantic_type\": \"\",\n        \"description\": \"\"\n      }\n    },\n    {\n      \"column\": \"Parch\",\n      \"properties\": {\n        \"dtype\": \"number\",\n        \"std\": 0,\n        \"min\": 0,\n        \"max\": 6,\n        \"num_unique_values\": 7,\n        \"samples\": [\n          0,\n          1\n        ],\n        \"semantic_type\": \"\",\n        \"description\": \"\"\n      }\n    },\n    {\n      \"column\": \"Ticket\",\n      \"properties\": {\n        \"dtype\": \"string\",\n        \"num_unique_values\": 681,\n        \"samples\": [\n          \"11774\",\n          \"248740\"\n        ],\n        \"semantic_type\": \"\",\n        \"description\": \"\"\n      }\n    },\n    {\n      \"column\": \"Fare\",\n      \"properties\": {\n        \"dtype\": \"number\",\n        \"std\": 49.6934285971809,\n        \"min\": 0.0,\n        \"max\": 512.3292,\n        \"num_unique_values\": 248,\n        \"samples\": [\n          11.2417,\n          51.8625\n        ],\n        \"semantic_type\": \"\",\n        \"description\": \"\"\n      }\n    },\n    {\n      \"column\": \"Embarked\",\n      \"properties\": {\n        \"dtype\": \"category\",\n        \"num_unique_values\": 3,\n        \"samples\": [\n          \"S\",\n          \"C\"\n        ],\n        \"semantic_type\": \"\",\n        \"description\": \"\"\n      }\n    }\n  ]\n}"
            }
          },
          "metadata": {},
          "execution_count": 104
        }
      ]
    },
    {
      "cell_type": "markdown",
      "source": [
        "В признаке Embarked отсутствует всего 2 значения - заменим их на моду."
      ],
      "metadata": {
        "id": "nhVKc_a-vJVg"
      }
    },
    {
      "cell_type": "code",
      "source": [
        "embarked_mode = train.Embarked.mode()\n",
        "train.Embarked = train.Embarked.fillna(embarked_mode[0])"
      ],
      "metadata": {
        "id": "lcWuWYAkvV_l"
      },
      "execution_count": null,
      "outputs": []
    },
    {
      "cell_type": "code",
      "source": [
        "train.info()"
      ],
      "metadata": {
        "colab": {
          "base_uri": "https://localhost:8080/"
        },
        "id": "-anvQSngvf6w",
        "outputId": "71a24cd5-5035-4dba-e0be-acce0826df71"
      },
      "execution_count": null,
      "outputs": [
        {
          "output_type": "stream",
          "name": "stdout",
          "text": [
            "<class 'pandas.core.frame.DataFrame'>\n",
            "RangeIndex: 891 entries, 0 to 890\n",
            "Data columns (total 11 columns):\n",
            " #   Column       Non-Null Count  Dtype  \n",
            "---  ------       --------------  -----  \n",
            " 0   PassengerId  891 non-null    int64  \n",
            " 1   Survived     891 non-null    int64  \n",
            " 2   Pclass       891 non-null    int64  \n",
            " 3   Name         891 non-null    object \n",
            " 4   Sex          891 non-null    object \n",
            " 5   Age          891 non-null    float64\n",
            " 6   SibSp        891 non-null    int64  \n",
            " 7   Parch        891 non-null    int64  \n",
            " 8   Ticket       891 non-null    object \n",
            " 9   Fare         891 non-null    float64\n",
            " 10  Embarked     891 non-null    object \n",
            "dtypes: float64(2), int64(5), object(4)\n",
            "memory usage: 76.7+ KB\n"
          ]
        }
      ]
    },
    {
      "cell_type": "markdown",
      "source": [
        "С train датасетом мы разобрались. Перейдем к test датасету."
      ],
      "metadata": {
        "id": "S_sr_MdgwQJE"
      }
    },
    {
      "cell_type": "code",
      "source": [
        "test.info()"
      ],
      "metadata": {
        "colab": {
          "base_uri": "https://localhost:8080/"
        },
        "id": "noNbyp2Pw2vJ",
        "outputId": "48a7842e-4725-41df-8119-1e02fa61a725"
      },
      "execution_count": null,
      "outputs": [
        {
          "output_type": "stream",
          "name": "stdout",
          "text": [
            "<class 'pandas.core.frame.DataFrame'>\n",
            "RangeIndex: 418 entries, 0 to 417\n",
            "Data columns (total 11 columns):\n",
            " #   Column       Non-Null Count  Dtype  \n",
            "---  ------       --------------  -----  \n",
            " 0   PassengerId  418 non-null    int64  \n",
            " 1   Pclass       418 non-null    int64  \n",
            " 2   Name         418 non-null    object \n",
            " 3   Sex          418 non-null    object \n",
            " 4   Age          332 non-null    float64\n",
            " 5   SibSp        418 non-null    int64  \n",
            " 6   Parch        418 non-null    int64  \n",
            " 7   Ticket       418 non-null    object \n",
            " 8   Fare         417 non-null    float64\n",
            " 9   Cabin        91 non-null     object \n",
            " 10  Embarked     418 non-null    object \n",
            "dtypes: float64(2), int64(4), object(5)\n",
            "memory usage: 36.0+ KB\n"
          ]
        }
      ]
    },
    {
      "cell_type": "markdown",
      "source": [
        "Проведем действия аналогичные предыдущим. Fare также заполним средним."
      ],
      "metadata": {
        "id": "IU48rmm1zMVB"
      }
    },
    {
      "cell_type": "code",
      "source": [
        "test.Age = test.Age.fillna(test.Age.median())\n",
        "test.Fare = test.Fare.fillna(test.Fare.mean())\n",
        "test = test.drop('Cabin', axis=1)\n",
        "test.info()"
      ],
      "metadata": {
        "colab": {
          "base_uri": "https://localhost:8080/"
        },
        "id": "XEyIxcYpzJru",
        "outputId": "c7f286a0-fdf1-4b51-8be9-dd933e92ddfe"
      },
      "execution_count": null,
      "outputs": [
        {
          "output_type": "stream",
          "name": "stdout",
          "text": [
            "<class 'pandas.core.frame.DataFrame'>\n",
            "RangeIndex: 418 entries, 0 to 417\n",
            "Data columns (total 10 columns):\n",
            " #   Column       Non-Null Count  Dtype  \n",
            "---  ------       --------------  -----  \n",
            " 0   PassengerId  418 non-null    int64  \n",
            " 1   Pclass       418 non-null    int64  \n",
            " 2   Name         418 non-null    object \n",
            " 3   Sex          418 non-null    object \n",
            " 4   Age          418 non-null    float64\n",
            " 5   SibSp        418 non-null    int64  \n",
            " 6   Parch        418 non-null    int64  \n",
            " 7   Ticket       418 non-null    object \n",
            " 8   Fare         418 non-null    float64\n",
            " 9   Embarked     418 non-null    object \n",
            "dtypes: float64(2), int64(4), object(4)\n",
            "memory usage: 32.8+ KB\n"
          ]
        }
      ]
    },
    {
      "cell_type": "markdown",
      "source": [
        "Перейдем к преобразованию данных."
      ],
      "metadata": {
        "id": "HlcfEVio0NZe"
      }
    },
    {
      "cell_type": "code",
      "source": [
        "def encode_sex(sex):\n",
        "  if sex == 'male':\n",
        "    return 1\n",
        "  else:\n",
        "    return 0\n",
        "\n",
        "train.Sex = train.Sex.apply(encode_sex)\n",
        "test.Sex = test.Sex.apply(encode_sex)"
      ],
      "metadata": {
        "id": "VHRD_enW0Qno"
      },
      "execution_count": null,
      "outputs": []
    },
    {
      "cell_type": "code",
      "source": [
        "train = train.astype({'Pclass': 'category','Embarked': 'category', 'Name': 'string', 'Ticket': 'string'})\n",
        "test = test.astype({'Pclass': 'category', 'Embarked': 'category', 'Name': 'string', 'Ticket': 'string'})"
      ],
      "metadata": {
        "id": "TpRmjGxT17ce"
      },
      "execution_count": null,
      "outputs": []
    },
    {
      "cell_type": "code",
      "source": [
        "train.info()"
      ],
      "metadata": {
        "colab": {
          "base_uri": "https://localhost:8080/"
        },
        "id": "Ar3IvAQQ4OBL",
        "outputId": "756f82ac-80ba-4e73-a794-92851120aa75"
      },
      "execution_count": null,
      "outputs": [
        {
          "output_type": "stream",
          "name": "stdout",
          "text": [
            "<class 'pandas.core.frame.DataFrame'>\n",
            "RangeIndex: 891 entries, 0 to 890\n",
            "Data columns (total 11 columns):\n",
            " #   Column       Non-Null Count  Dtype   \n",
            "---  ------       --------------  -----   \n",
            " 0   PassengerId  891 non-null    int64   \n",
            " 1   Survived     891 non-null    int64   \n",
            " 2   Pclass       891 non-null    category\n",
            " 3   Name         891 non-null    string  \n",
            " 4   Sex          891 non-null    int64   \n",
            " 5   Age          891 non-null    float64 \n",
            " 6   SibSp        891 non-null    int64   \n",
            " 7   Parch        891 non-null    int64   \n",
            " 8   Ticket       891 non-null    string  \n",
            " 9   Fare         891 non-null    float64 \n",
            " 10  Embarked     891 non-null    category\n",
            "dtypes: category(2), float64(2), int64(5), string(2)\n",
            "memory usage: 64.8 KB\n"
          ]
        }
      ]
    },
    {
      "cell_type": "code",
      "source": [
        "test.info()"
      ],
      "metadata": {
        "colab": {
          "base_uri": "https://localhost:8080/"
        },
        "id": "DmXjHJrP4Pja",
        "outputId": "dcdff578-0dc3-4f30-c842-62543823299d"
      },
      "execution_count": null,
      "outputs": [
        {
          "output_type": "stream",
          "name": "stdout",
          "text": [
            "<class 'pandas.core.frame.DataFrame'>\n",
            "RangeIndex: 418 entries, 0 to 417\n",
            "Data columns (total 10 columns):\n",
            " #   Column       Non-Null Count  Dtype   \n",
            "---  ------       --------------  -----   \n",
            " 0   PassengerId  418 non-null    int64   \n",
            " 1   Pclass       418 non-null    category\n",
            " 2   Name         418 non-null    string  \n",
            " 3   Sex          418 non-null    int64   \n",
            " 4   Age          418 non-null    float64 \n",
            " 5   SibSp        418 non-null    int64   \n",
            " 6   Parch        418 non-null    int64   \n",
            " 7   Ticket       418 non-null    string  \n",
            " 8   Fare         418 non-null    float64 \n",
            " 9   Embarked     418 non-null    category\n",
            "dtypes: category(2), float64(2), int64(4), string(2)\n",
            "memory usage: 27.3 KB\n"
          ]
        }
      ]
    },
    {
      "cell_type": "markdown",
      "source": [
        "Сделаем PassengerID нашим индексом"
      ],
      "metadata": {
        "id": "s9V47Oqn-njr"
      }
    },
    {
      "cell_type": "code",
      "source": [
        "train = train.set_index('PassengerId')"
      ],
      "metadata": {
        "id": "LwHtFdj0-qsK"
      },
      "execution_count": null,
      "outputs": []
    },
    {
      "cell_type": "markdown",
      "source": [
        "И теперь перейдем к анализу наших данных и их визуализации."
      ],
      "metadata": {
        "id": "v2nG91L07VeU"
      }
    },
    {
      "cell_type": "code",
      "source": [
        "sns.heatmap(train.drop(['Name', 'Ticket', 'Embarked'], axis=1).corr('kendall'), annot=True)"
      ],
      "metadata": {
        "colab": {
          "base_uri": "https://localhost:8080/",
          "height": 507
        },
        "id": "DtEcK8t57Zh9",
        "outputId": "427b444d-ba2c-444a-d3af-56dc10fc0fc5"
      },
      "execution_count": null,
      "outputs": [
        {
          "output_type": "execute_result",
          "data": {
            "text/plain": [
              "<Axes: >"
            ]
          },
          "metadata": {},
          "execution_count": 114
        },
        {
          "output_type": "display_data",
          "data": {
            "text/plain": [
              "<Figure size 800x550 with 2 Axes>"
            ],
            "image/png": "[encoded data removed]"
          },
          "metadata": {}
        }
      ]
    },
    {
      "cell_type": "markdown",
      "source": [
        "На выживаемость со средней силой линейно влияет пол, в остальных же признаках линейной зависимости нет или практически нет. Потому вероятно взаимосвязь тут нелинейная и модели нужно будет строить соответственно нелинейные."
      ],
      "metadata": {
        "id": "ms-ay20Q5b3E"
      }
    },
    {
      "cell_type": "code",
      "source": [
        "def hist_draw(data, features, axe, row):\n",
        "  for i, feature in enumerate(features):\n",
        "    sns.histplot(data[feature], ax=ax[row, i])\n",
        "\n",
        "fig, ax = plt.subplots(2, 4, figsize=(20, 15))\n",
        "hist_draw(train, ['Survived', 'Pclass', 'Sex', 'Age'], ax, 0)\n",
        "hist_draw(train, ['SibSp', 'Parch', 'Fare', 'Embarked'], ax, 1)\n",
        "plt.show()"
      ],
      "metadata": {
        "colab": {
          "base_uri": "https://localhost:8080/",
          "height": 1000
        },
        "id": "z9fPuLZX_BD6",
        "outputId": "2ffa2913-eeb7-42a5-a278-139b3a60ba5c"
      },
      "execution_count": null,
      "outputs": [
        {
          "output_type": "display_data",
          "data": {
            "text/plain": [
              "<Figure size 2000x1500 with 8 Axes>"
            ],
            "image/png": "[encoded data removed]"
          },
          "metadata": {}
        }
      ]
    },
    {
      "cell_type": "markdown",
      "source": [
        "Из графиков видно, что все признаки имеют явно ненормальное распределение (если мы говорим именно про числовые).\n",
        "\n",
        "В то же время можно заметить, что погибло пассажиров не сильно больше, чем выжило.\n",
        "\n",
        "Пассажиры, имеющие высокий достаток, превалируют над остальными.\n",
        "\n",
        "Мужчин на корабле было заметно больше, чем женщин, а наиболее встречаемый возраст пассажиров - около 30 лет.\n",
        "\n",
        "SibSp и Parch чаще всего около нуля - было много тех или иных одиночек.\n",
        "\n",
        "Стоимость билетов имеет явный пик, а также заметный выброс - кто-то приобрел билет за 500 фунтов."
      ],
      "metadata": {
        "id": "aD2GccRxTtYF"
      }
    },
    {
      "cell_type": "markdown",
      "source": [
        "В то же время признаки имя и номер билета не несут никакой интепретации."
      ],
      "metadata": {
        "id": "XTIa48_nVQ-r"
      }
    },
    {
      "cell_type": "markdown",
      "source": [
        "Отобразим теперь boxplot графики."
      ],
      "metadata": {
        "id": "-XIM1d1qVdNH"
      }
    },
    {
      "cell_type": "code",
      "source": [
        "def boxplot_draw(data, features, axe):\n",
        "  for i, feature in enumerate(features):\n",
        "    sns.boxplot(x=data[feature], ax=ax[i])\n",
        "\n",
        "fig, ax = plt.subplots(1, 2, figsize=(20, 15))\n",
        "boxplot_draw(train, ['Age', 'Fare'], ax)\n",
        "plt.show()"
      ],
      "metadata": {
        "colab": {
          "base_uri": "https://localhost:8080/",
          "height": 1000
        },
        "id": "7okCPPsiJew5",
        "outputId": "32651f3a-994f-4720-b764-7954e6817f31"
      },
      "execution_count": null,
      "outputs": [
        {
          "output_type": "display_data",
          "data": {
            "text/plain": [
              "<Figure size 2000x1500 with 2 Axes>"
            ],
            "image/png": "[encoded data removed]"
          },
          "metadata": {}
        }
      ]
    },
    {
      "cell_type": "markdown",
      "source": [
        "В целом заметны выбросы в рамках конкретных наборов данных, но ничего из ряда вон выходящего не наблюдается. Только лишь стоимость билета за 500 фунтов стерлингов явно выбивается из общей картины. Проверим, корректны ли данные."
      ],
      "metadata": {
        "id": "hJ9VVFGSTsHs"
      }
    },
    {
      "cell_type": "code",
      "source": [
        "train.query(f'Fare == {train.Fare.max()}')"
      ],
      "metadata": {
        "colab": {
          "base_uri": "https://localhost:8080/",
          "height": 175
        },
        "id": "3Y2Fdp4iWMGA",
        "outputId": "0601bd4d-4cfd-4c60-dd9a-4faac35da756"
      },
      "execution_count": null,
      "outputs": [
        {
          "output_type": "execute_result",
          "data": {
            "text/plain": [
              "             Survived Pclass                                Name  Sex   Age  \\\n",
              "PassengerId                                                                   \n",
              "259                 1      1                    Ward, Miss. Anna    0  35.0   \n",
              "680                 1      1  Cardeza, Mr. Thomas Drake Martinez    1  36.0   \n",
              "738                 1      1              Lesurer, Mr. Gustave J    1  35.0   \n",
              "\n",
              "             SibSp  Parch    Ticket      Fare Embarked  \n",
              "PassengerId                                             \n",
              "259              0      0  PC 17755  512.3292        C  \n",
              "680              0      1  PC 17755  512.3292        C  \n",
              "738              0      0  PC 17755  512.3292        C  "
            ],
            "text/html": [
              "\n",
              "  <div id=\"df-bde57fd7-1ecb-4278-9f6d-ded1f0263d5f\" class=\"colab-df-container\">\n",
              "    <div>\n",
              "<style scoped>\n",
              "    .dataframe tbody tr th:only-of-type {\n",
              "        vertical-align: middle;\n",
              "    }\n",
              "\n",
              "    .dataframe tbody tr th {\n",
              "        vertical-align: top;\n",
              "    }\n",
              "\n",
              "    .dataframe thead th {\n",
              "        text-align: right;\n",
              "    }\n",
              "</style>\n",
              "<table border=\"1\" class=\"dataframe\">\n",
              "  <thead>\n",
              "    <tr style=\"text-align: right;\">\n",
              "      <th></th>\n",
              "      <th>Survived</th>\n",
              "      <th>Pclass</th>\n",
              "      <th>Name</th>\n",
              "      <th>Sex</th>\n",
              "      <th>Age</th>\n",
              "      <th>SibSp</th>\n",
              "      <th>Parch</th>\n",
              "      <th>Ticket</th>\n",
              "      <th>Fare</th>\n",
              "      <th>Embarked</th>\n",
              "    </tr>\n",
              "    <tr>\n",
              "      <th>PassengerId</th>\n",
              "      <th></th>\n",
              "      <th></th>\n",
              "      <th></th>\n",
              "      <th></th>\n",
              "      <th></th>\n",
              "      <th></th>\n",
              "      <th></th>\n",
              "      <th></th>\n",
              "      <th></th>\n",
              "      <th></th>\n",
              "    </tr>\n",
              "  </thead>\n",
              "  <tbody>\n",
              "    <tr>\n",
              "      <th>259</th>\n",
              "      <td>1</td>\n",
              "      <td>1</td>\n",
              "      <td>Ward, Miss. Anna</td>\n",
              "      <td>0</td>\n",
              "      <td>35.0</td>\n",
              "      <td>0</td>\n",
              "      <td>0</td>\n",
              "      <td>PC 17755</td>\n",
              "      <td>512.3292</td>\n",
              "      <td>C</td>\n",
              "    </tr>\n",
              "    <tr>\n",
              "      <th>680</th>\n",
              "      <td>1</td>\n",
              "      <td>1</td>\n",
              "      <td>Cardeza, Mr. Thomas Drake Martinez</td>\n",
              "      <td>1</td>\n",
              "      <td>36.0</td>\n",
              "      <td>0</td>\n",
              "      <td>1</td>\n",
              "      <td>PC 17755</td>\n",
              "      <td>512.3292</td>\n",
              "      <td>C</td>\n",
              "    </tr>\n",
              "    <tr>\n",
              "      <th>738</th>\n",
              "      <td>1</td>\n",
              "      <td>1</td>\n",
              "      <td>Lesurer, Mr. Gustave J</td>\n",
              "      <td>1</td>\n",
              "      <td>35.0</td>\n",
              "      <td>0</td>\n",
              "      <td>0</td>\n",
              "      <td>PC 17755</td>\n",
              "      <td>512.3292</td>\n",
              "      <td>C</td>\n",
              "    </tr>\n",
              "  </tbody>\n",
              "</table>\n",
              "</div>\n",
              "    <div class=\"colab-df-buttons\">\n",
              "\n",
              "  <div class=\"colab-df-container\">\n",
              "    <button class=\"colab-df-convert\" onclick=\"convertToInteractive('df-bde57fd7-1ecb-4278-9f6d-ded1f0263d5f')\"\n",
              "            title=\"Convert this dataframe to an interactive table.\"\n",
              "            style=\"display:none;\">\n",
              "\n",
              "  <svg xmlns=\"http://www.w3.org/2000/svg\" height=\"24px\" viewBox=\"0 -960 960 960\">\n",
              "    <path d=\"M120-120v-720h720v720H120Zm60-500h600v-160H180v160Zm220 220h160v-160H400v160Zm0 220h160v-160H400v160ZM180-400h160v-160H180v160Zm440 0h160v-160H620v160ZM180-180h160v-160H180v160Zm440 0h160v-160H620v160Z\"/>\n",
              "  </svg>\n",
              "    </button>\n",
              "\n",
              "  <style>\n",
              "    .colab-df-container {\n",
              "      display:flex;\n",
              "      gap: 12px;\n",
              "    }\n",
              "\n",
              "    .colab-df-convert {\n",
              "      background-color: #E8F0FE;\n",
              "      border: none;\n",
              "      border-radius: 50%;\n",
              "      cursor: pointer;\n",
              "      display: none;\n",
              "      fill: #1967D2;\n",
              "      height: 32px;\n",
              "      padding: 0 0 0 0;\n",
              "      width: 32px;\n",
              "    }\n",
              "\n",
              "    .colab-df-convert:hover {\n",
              "      background-color: #E2EBFA;\n",
              "      box-shadow: 0px 1px 2px rgba(60, 64, 67, 0.3), 0px 1px 3px 1px rgba(60, 64, 67, 0.15);\n",
              "      fill: #174EA6;\n",
              "    }\n",
              "\n",
              "    .colab-df-buttons div {\n",
              "      margin-bottom: 4px;\n",
              "    }\n",
              "\n",
              "    [theme=dark] .colab-df-convert {\n",
              "      background-color: #3B4455;\n",
              "      fill: #D2E3FC;\n",
              "    }\n",
              "\n",
              "    [theme=dark] .colab-df-convert:hover {\n",
              "      background-color: #434B5C;\n",
              "      box-shadow: 0px 1px 3px 1px rgba(0, 0, 0, 0.15);\n",
              "      filter: drop-shadow(0px 1px 2px rgba(0, 0, 0, 0.3));\n",
              "      fill: #FFFFFF;\n",
              "    }\n",
              "  </style>\n",
              "\n",
              "    <script>\n",
              "      const buttonEl =\n",
              "        document.querySelector('#df-bde57fd7-1ecb-4278-9f6d-ded1f0263d5f button.colab-df-convert');\n",
              "      buttonEl.style.display =\n",
              "        google.colab.kernel.accessAllowed ? 'block' : 'none';\n",
              "\n",
              "      async function convertToInteractive(key) {\n",
              "        const element = document.querySelector('#df-bde57fd7-1ecb-4278-9f6d-ded1f0263d5f');\n",
              "        const dataTable =\n",
              "          await google.colab.kernel.invokeFunction('convertToInteractive',\n",
              "                                                    [key], {});\n",
              "        if (!dataTable) return;\n",
              "\n",
              "        const docLinkHtml = 'Like what you see? Visit the ' +\n",
              "          '<a target=\"_blank\" href=https://colab.research.google.com/notebooks/data_table.ipynb>data table notebook</a>'\n",
              "          + ' to learn more about interactive tables.';\n",
              "        element.innerHTML = '';\n",
              "        dataTable['output_type'] = 'display_data';\n",
              "        await google.colab.output.renderOutput(dataTable, element);\n",
              "        const docLink = document.createElement('div');\n",
              "        docLink.innerHTML = docLinkHtml;\n",
              "        element.appendChild(docLink);\n",
              "      }\n",
              "    </script>\n",
              "  </div>\n",
              "\n",
              "\n",
              "<div id=\"df-68f06c26-30de-4c07-bf71-baf8c039acd6\">\n",
              "  <button class=\"colab-df-quickchart\" onclick=\"quickchart('df-68f06c26-30de-4c07-bf71-baf8c039acd6')\"\n",
              "            title=\"Suggest charts\"\n",
              "            style=\"display:none;\">\n",
              "\n",
              "<svg xmlns=\"http://www.w3.org/2000/svg\" height=\"24px\"viewBox=\"0 0 24 24\"\n",
              "     width=\"24px\">\n",
              "    <g>\n",
              "        <path d=\"M19 3H5c-1.1 0-2 .9-2 2v14c0 1.1.9 2 2 2h14c1.1 0 2-.9 2-2V5c0-1.1-.9-2-2-2zM9 17H7v-7h2v7zm4 0h-2V7h2v10zm4 0h-2v-4h2v4z\"/>\n",
              "    </g>\n",
              "</svg>\n",
              "  </button>\n",
              "\n",
              "<style>\n",
              "  .colab-df-quickchart {\n",
              "      --bg-color: #E8F0FE;\n",
              "      --fill-color: #1967D2;\n",
              "      --hover-bg-color: #E2EBFA;\n",
              "      --hover-fill-color: #174EA6;\n",
              "      --disabled-fill-color: #AAA;\n",
              "      --disabled-bg-color: #DDD;\n",
              "  }\n",
              "\n",
              "  [theme=dark] .colab-df-quickchart {\n",
              "      --bg-color: #3B4455;\n",
              "      --fill-color: #D2E3FC;\n",
              "      --hover-bg-color: #434B5C;\n",
              "      --hover-fill-color: #FFFFFF;\n",
              "      --disabled-bg-color: #3B4455;\n",
              "      --disabled-fill-color: #666;\n",
              "  }\n",
              "\n",
              "  .colab-df-quickchart {\n",
              "    background-color: var(--bg-color);\n",
              "    border: none;\n",
              "    border-radius: 50%;\n",
              "    cursor: pointer;\n",
              "    display: none;\n",
              "    fill: var(--fill-color);\n",
              "    height: 32px;\n",
              "    padding: 0;\n",
              "    width: 32px;\n",
              "  }\n",
              "\n",
              "  .colab-df-quickchart:hover {\n",
              "    background-color: var(--hover-bg-color);\n",
              "    box-shadow: 0 1px 2px rgba(60, 64, 67, 0.3), 0 1px 3px 1px rgba(60, 64, 67, 0.15);\n",
              "    fill: var(--button-hover-fill-color);\n",
              "  }\n",
              "\n",
              "  .colab-df-quickchart-complete:disabled,\n",
              "  .colab-df-quickchart-complete:disabled:hover {\n",
              "    background-color: var(--disabled-bg-color);\n",
              "    fill: var(--disabled-fill-color);\n",
              "    box-shadow: none;\n",
              "  }\n",
              "\n",
              "  .colab-df-spinner {\n",
              "    border: 2px solid var(--fill-color);\n",
              "    border-color: transparent;\n",
              "    border-bottom-color: var(--fill-color);\n",
              "    animation:\n",
              "      spin 1s steps(1) infinite;\n",
              "  }\n",
              "\n",
              "  @keyframes spin {\n",
              "    0% {\n",
              "      border-color: transparent;\n",
              "      border-bottom-color: var(--fill-color);\n",
              "      border-left-color: var(--fill-color);\n",
              "    }\n",
              "    20% {\n",
              "      border-color: transparent;\n",
              "      border-left-color: var(--fill-color);\n",
              "      border-top-color: var(--fill-color);\n",
              "    }\n",
              "    30% {\n",
              "      border-color: transparent;\n",
              "      border-left-color: var(--fill-color);\n",
              "      border-top-color: var(--fill-color);\n",
              "      border-right-color: var(--fill-color);\n",
              "    }\n",
              "    40% {\n",
              "      border-color: transparent;\n",
              "      border-right-color: var(--fill-color);\n",
              "      border-top-color: var(--fill-color);\n",
              "    }\n",
              "    60% {\n",
              "      border-color: transparent;\n",
              "      border-right-color: var(--fill-color);\n",
              "    }\n",
              "    80% {\n",
              "      border-color: transparent;\n",
              "      border-right-color: var(--fill-color);\n",
              "      border-bottom-color: var(--fill-color);\n",
              "    }\n",
              "    90% {\n",
              "      border-color: transparent;\n",
              "      border-bottom-color: var(--fill-color);\n",
              "    }\n",
              "  }\n",
              "</style>\n",
              "\n",
              "  <script>\n",
              "    async function quickchart(key) {\n",
              "      const quickchartButtonEl =\n",
              "        document.querySelector('#' + key + ' button');\n",
              "      quickchartButtonEl.disabled = true;  // To prevent multiple clicks.\n",
              "      quickchartButtonEl.classList.add('colab-df-spinner');\n",
              "      try {\n",
              "        const charts = await google.colab.kernel.invokeFunction(\n",
              "            'suggestCharts', [key], {});\n",
              "      } catch (error) {\n",
              "        console.error('Error during call to suggestCharts:', error);\n",
              "      }\n",
              "      quickchartButtonEl.classList.remove('colab-df-spinner');\n",
              "      quickchartButtonEl.classList.add('colab-df-quickchart-complete');\n",
              "    }\n",
              "    (() => {\n",
              "      let quickchartButtonEl =\n",
              "        document.querySelector('#df-68f06c26-30de-4c07-bf71-baf8c039acd6 button');\n",
              "      quickchartButtonEl.style.display =\n",
              "        google.colab.kernel.accessAllowed ? 'block' : 'none';\n",
              "    })();\n",
              "  </script>\n",
              "</div>\n",
              "\n",
              "    </div>\n",
              "  </div>\n"
            ],
            "application/vnd.google.colaboratory.intrinsic+json": {
              "type": "dataframe",
              "summary": "{\n  \"name\": \"train\",\n  \"rows\": 3,\n  \"fields\": [\n    {\n      \"column\": \"PassengerId\",\n      \"properties\": {\n        \"dtype\": \"number\",\n        \"std\": 261,\n        \"min\": 259,\n        \"max\": 738,\n        \"num_unique_values\": 3,\n        \"samples\": [\n          259,\n          680,\n          738\n        ],\n        \"semantic_type\": \"\",\n        \"description\": \"\"\n      }\n    },\n    {\n      \"column\": \"Survived\",\n      \"properties\": {\n        \"dtype\": \"number\",\n        \"std\": 0,\n        \"min\": 1,\n        \"max\": 1,\n        \"num_unique_values\": 1,\n        \"samples\": [\n          1\n        ],\n        \"semantic_type\": \"\",\n        \"description\": \"\"\n      }\n    },\n    {\n      \"column\": \"Pclass\",\n      \"properties\": {\n        \"dtype\": \"category\",\n        \"num_unique_values\": 1,\n        \"samples\": [\n          1\n        ],\n        \"semantic_type\": \"\",\n        \"description\": \"\"\n      }\n    },\n    {\n      \"column\": \"Name\",\n      \"properties\": {\n        \"dtype\": \"string\",\n        \"num_unique_values\": 3,\n        \"samples\": [\n          \"Ward, Miss. Anna\"\n        ],\n        \"semantic_type\": \"\",\n        \"description\": \"\"\n      }\n    },\n    {\n      \"column\": \"Sex\",\n      \"properties\": {\n        \"dtype\": \"number\",\n        \"std\": 0,\n        \"min\": 0,\n        \"max\": 1,\n        \"num_unique_values\": 2,\n        \"samples\": [\n          1\n        ],\n        \"semantic_type\": \"\",\n        \"description\": \"\"\n      }\n    },\n    {\n      \"column\": \"Age\",\n      \"properties\": {\n        \"dtype\": \"number\",\n        \"std\": 0.5773502691896258,\n        \"min\": 35.0,\n        \"max\": 36.0,\n        \"num_unique_values\": 2,\n        \"samples\": [\n          36.0\n        ],\n        \"semantic_type\": \"\",\n        \"description\": \"\"\n      }\n    },\n    {\n      \"column\": \"SibSp\",\n      \"properties\": {\n        \"dtype\": \"number\",\n        \"std\": 0,\n        \"min\": 0,\n        \"max\": 0,\n        \"num_unique_values\": 1,\n        \"samples\": [\n          0\n        ],\n        \"semantic_type\": \"\",\n        \"description\": \"\"\n      }\n    },\n    {\n      \"column\": \"Parch\",\n      \"properties\": {\n        \"dtype\": \"number\",\n        \"std\": 0,\n        \"min\": 0,\n        \"max\": 1,\n        \"num_unique_values\": 2,\n        \"samples\": [\n          1\n        ],\n        \"semantic_type\": \"\",\n        \"description\": \"\"\n      }\n    },\n    {\n      \"column\": \"Ticket\",\n      \"properties\": {\n        \"dtype\": \"string\",\n        \"num_unique_values\": 1,\n        \"samples\": [\n          \"PC 17755\"\n        ],\n        \"semantic_type\": \"\",\n        \"description\": \"\"\n      }\n    },\n    {\n      \"column\": \"Fare\",\n      \"properties\": {\n        \"dtype\": \"number\",\n        \"std\": 0.0,\n        \"min\": 512.3292,\n        \"max\": 512.3292,\n        \"num_unique_values\": 1,\n        \"samples\": [\n          512.3292\n        ],\n        \"semantic_type\": \"\",\n        \"description\": \"\"\n      }\n    },\n    {\n      \"column\": \"Embarked\",\n      \"properties\": {\n        \"dtype\": \"category\",\n        \"num_unique_values\": 1,\n        \"samples\": [\n          \"C\"\n        ],\n        \"semantic_type\": \"\",\n        \"description\": \"\"\n      }\n    }\n  ]\n}"
            }
          },
          "metadata": {},
          "execution_count": 117
        }
      ]
    },
    {
      "cell_type": "markdown",
      "source": [
        "На энциклопедии о \"Титанике\" можно найти всех трёх личностей - они действительно приобрели самые дорогие билеты, потому данные корректны."
      ],
      "metadata": {
        "id": "BV_1cdvVXlut"
      }
    },
    {
      "cell_type": "markdown",
      "source": [
        "Последним важным аспектом будет проверка частот положительного и отрицательного класса - это необходимо, так как для моделей классификации может быть важно, что классы несбалансированы."
      ],
      "metadata": {
        "id": "2QOGysMYYr1o"
      }
    },
    {
      "cell_type": "code",
      "source": [
        "train.Survived.value_counts(normalize=True) * 100"
      ],
      "metadata": {
        "colab": {
          "base_uri": "https://localhost:8080/",
          "height": 178
        },
        "id": "DPJbmER6ZPbZ",
        "outputId": "52b08ab3-d0ac-452e-e66b-ab397b4a88f0"
      },
      "execution_count": null,
      "outputs": [
        {
          "output_type": "execute_result",
          "data": {
            "text/plain": [
              "Survived\n",
              "0    61.616162\n",
              "1    38.383838\n",
              "Name: proportion, dtype: float64"
            ],
            "text/html": [
              "<div>\n",
              "<style scoped>\n",
              "    .dataframe tbody tr th:only-of-type {\n",
              "        vertical-align: middle;\n",
              "    }\n",
              "\n",
              "    .dataframe tbody tr th {\n",
              "        vertical-align: top;\n",
              "    }\n",
              "\n",
              "    .dataframe thead th {\n",
              "        text-align: right;\n",
              "    }\n",
              "</style>\n",
              "<table border=\"1\" class=\"dataframe\">\n",
              "  <thead>\n",
              "    <tr style=\"text-align: right;\">\n",
              "      <th></th>\n",
              "      <th>proportion</th>\n",
              "    </tr>\n",
              "    <tr>\n",
              "      <th>Survived</th>\n",
              "      <th></th>\n",
              "    </tr>\n",
              "  </thead>\n",
              "  <tbody>\n",
              "    <tr>\n",
              "      <th>0</th>\n",
              "      <td>61.616162</td>\n",
              "    </tr>\n",
              "    <tr>\n",
              "      <th>1</th>\n",
              "      <td>38.383838</td>\n",
              "    </tr>\n",
              "  </tbody>\n",
              "</table>\n",
              "</div><br><label><b>dtype:</b> float64</label>"
            ]
          },
          "metadata": {},
          "execution_count": 118
        }
      ]
    },
    {
      "cell_type": "markdown",
      "source": [
        "*Перевес* имеется, хоть и не столь значимый. От идеального 50/50 нас отделяют лишь ~10% наблюдений. Что также можно заметить на гистограмме выше."
      ],
      "metadata": {
        "id": "YyOl_Rs1Z9OX"
      }
    },
    {
      "cell_type": "markdown",
      "source": [
        "## Отбор признаков"
      ],
      "metadata": {
        "id": "cU-Fewz56Ujb"
      }
    },
    {
      "cell_type": "markdown",
      "source": [
        "Имена и номера билетов абсолютно неинформативны по той причине, что это искусственные данные и они не могут иметь влияния на возможность выживания человека. Аналогично можно сказать и про порт отправления, так как на момент крушения все были в открытом океане. Отбросим данные признаки для всех датасетов (мы всё равно не будем делать по ним предсказания)."
      ],
      "metadata": {
        "id": "2gYefUcLJYqa"
      }
    },
    {
      "cell_type": "code",
      "source": [
        "train = train.drop(['Name', 'Ticket', 'Embarked'], axis=1)\n",
        "test = test.drop(['Name', 'Ticket', 'Embarked'], axis=1)"
      ],
      "metadata": {
        "id": "Q08LIKoR6UB8"
      },
      "execution_count": null,
      "outputs": []
    },
    {
      "cell_type": "code",
      "source": [
        "train.describe()"
      ],
      "metadata": {
        "id": "ZnCTMTrQYkwn",
        "outputId": "ea032d5f-bc86-4cf4-ce63-6bfe6e669e0c",
        "colab": {
          "base_uri": "https://localhost:8080/",
          "height": 300
        }
      },
      "execution_count": null,
      "outputs": [
        {
          "output_type": "execute_result",
          "data": {
            "text/plain": [
              "         Survived         Sex         Age       SibSp       Parch        Fare\n",
              "count  891.000000  891.000000  891.000000  891.000000  891.000000  891.000000\n",
              "mean     0.383838    0.647587   29.361582    0.523008    0.381594   32.204208\n",
              "std      0.486592    0.477990   13.019697    1.102743    0.806057   49.693429\n",
              "min      0.000000    0.000000    0.420000    0.000000    0.000000    0.000000\n",
              "25%      0.000000    0.000000   22.000000    0.000000    0.000000    7.910400\n",
              "50%      0.000000    1.000000   28.000000    0.000000    0.000000   14.454200\n",
              "75%      1.000000    1.000000   35.000000    1.000000    0.000000   31.000000\n",
              "max      1.000000    1.000000   80.000000    8.000000    6.000000  512.329200"
            ],
            "text/html": [
              "\n",
              "  <div id=\"df-53ef753b-f246-478b-84b7-e9975e62fc01\" class=\"colab-df-container\">\n",
              "    <div>\n",
              "<style scoped>\n",
              "    .dataframe tbody tr th:only-of-type {\n",
              "        vertical-align: middle;\n",
              "    }\n",
              "\n",
              "    .dataframe tbody tr th {\n",
              "        vertical-align: top;\n",
              "    }\n",
              "\n",
              "    .dataframe thead th {\n",
              "        text-align: right;\n",
              "    }\n",
              "</style>\n",
              "<table border=\"1\" class=\"dataframe\">\n",
              "  <thead>\n",
              "    <tr style=\"text-align: right;\">\n",
              "      <th></th>\n",
              "      <th>Survived</th>\n",
              "      <th>Sex</th>\n",
              "      <th>Age</th>\n",
              "      <th>SibSp</th>\n",
              "      <th>Parch</th>\n",
              "      <th>Fare</th>\n",
              "    </tr>\n",
              "  </thead>\n",
              "  <tbody>\n",
              "    <tr>\n",
              "      <th>count</th>\n",
              "      <td>891.000000</td>\n",
              "      <td>891.000000</td>\n",
              "      <td>891.000000</td>\n",
              "      <td>891.000000</td>\n",
              "      <td>891.000000</td>\n",
              "      <td>891.000000</td>\n",
              "    </tr>\n",
              "    <tr>\n",
              "      <th>mean</th>\n",
              "      <td>0.383838</td>\n",
              "      <td>0.647587</td>\n",
              "      <td>29.361582</td>\n",
              "      <td>0.523008</td>\n",
              "      <td>0.381594</td>\n",
              "      <td>32.204208</td>\n",
              "    </tr>\n",
              "    <tr>\n",
              "      <th>std</th>\n",
              "      <td>0.486592</td>\n",
              "      <td>0.477990</td>\n",
              "      <td>13.019697</td>\n",
              "      <td>1.102743</td>\n",
              "      <td>0.806057</td>\n",
              "      <td>49.693429</td>\n",
              "    </tr>\n",
              "    <tr>\n",
              "      <th>min</th>\n",
              "      <td>0.000000</td>\n",
              "      <td>0.000000</td>\n",
              "      <td>0.420000</td>\n",
              "      <td>0.000000</td>\n",
              "      <td>0.000000</td>\n",
              "      <td>0.000000</td>\n",
              "    </tr>\n",
              "    <tr>\n",
              "      <th>25%</th>\n",
              "      <td>0.000000</td>\n",
              "      <td>0.000000</td>\n",
              "      <td>22.000000</td>\n",
              "      <td>0.000000</td>\n",
              "      <td>0.000000</td>\n",
              "      <td>7.910400</td>\n",
              "    </tr>\n",
              "    <tr>\n",
              "      <th>50%</th>\n",
              "      <td>0.000000</td>\n",
              "      <td>1.000000</td>\n",
              "      <td>28.000000</td>\n",
              "      <td>0.000000</td>\n",
              "      <td>0.000000</td>\n",
              "      <td>14.454200</td>\n",
              "    </tr>\n",
              "    <tr>\n",
              "      <th>75%</th>\n",
              "      <td>1.000000</td>\n",
              "      <td>1.000000</td>\n",
              "      <td>35.000000</td>\n",
              "      <td>1.000000</td>\n",
              "      <td>0.000000</td>\n",
              "      <td>31.000000</td>\n",
              "    </tr>\n",
              "    <tr>\n",
              "      <th>max</th>\n",
              "      <td>1.000000</td>\n",
              "      <td>1.000000</td>\n",
              "      <td>80.000000</td>\n",
              "      <td>8.000000</td>\n",
              "      <td>6.000000</td>\n",
              "      <td>512.329200</td>\n",
              "    </tr>\n",
              "  </tbody>\n",
              "</table>\n",
              "</div>\n",
              "    <div class=\"colab-df-buttons\">\n",
              "\n",
              "  <div class=\"colab-df-container\">\n",
              "    <button class=\"colab-df-convert\" onclick=\"convertToInteractive('df-53ef753b-f246-478b-84b7-e9975e62fc01')\"\n",
              "            title=\"Convert this dataframe to an interactive table.\"\n",
              "            style=\"display:none;\">\n",
              "\n",
              "  <svg xmlns=\"http://www.w3.org/2000/svg\" height=\"24px\" viewBox=\"0 -960 960 960\">\n",
              "    <path d=\"M120-120v-720h720v720H120Zm60-500h600v-160H180v160Zm220 220h160v-160H400v160Zm0 220h160v-160H400v160ZM180-400h160v-160H180v160Zm440 0h160v-160H620v160ZM180-180h160v-160H180v160Zm440 0h160v-160H620v160Z\"/>\n",
              "  </svg>\n",
              "    </button>\n",
              "\n",
              "  <style>\n",
              "    .colab-df-container {\n",
              "      display:flex;\n",
              "      gap: 12px;\n",
              "    }\n",
              "\n",
              "    .colab-df-convert {\n",
              "      background-color: #E8F0FE;\n",
              "      border: none;\n",
              "      border-radius: 50%;\n",
              "      cursor: pointer;\n",
              "      display: none;\n",
              "      fill: #1967D2;\n",
              "      height: 32px;\n",
              "      padding: 0 0 0 0;\n",
              "      width: 32px;\n",
              "    }\n",
              "\n",
              "    .colab-df-convert:hover {\n",
              "      background-color: #E2EBFA;\n",
              "      box-shadow: 0px 1px 2px rgba(60, 64, 67, 0.3), 0px 1px 3px 1px rgba(60, 64, 67, 0.15);\n",
              "      fill: #174EA6;\n",
              "    }\n",
              "\n",
              "    .colab-df-buttons div {\n",
              "      margin-bottom: 4px;\n",
              "    }\n",
              "\n",
              "    [theme=dark] .colab-df-convert {\n",
              "      background-color: #3B4455;\n",
              "      fill: #D2E3FC;\n",
              "    }\n",
              "\n",
              "    [theme=dark] .colab-df-convert:hover {\n",
              "      background-color: #434B5C;\n",
              "      box-shadow: 0px 1px 3px 1px rgba(0, 0, 0, 0.15);\n",
              "      filter: drop-shadow(0px 1px 2px rgba(0, 0, 0, 0.3));\n",
              "      fill: #FFFFFF;\n",
              "    }\n",
              "  </style>\n",
              "\n",
              "    <script>\n",
              "      const buttonEl =\n",
              "        document.querySelector('#df-53ef753b-f246-478b-84b7-e9975e62fc01 button.colab-df-convert');\n",
              "      buttonEl.style.display =\n",
              "        google.colab.kernel.accessAllowed ? 'block' : 'none';\n",
              "\n",
              "      async function convertToInteractive(key) {\n",
              "        const element = document.querySelector('#df-53ef753b-f246-478b-84b7-e9975e62fc01');\n",
              "        const dataTable =\n",
              "          await google.colab.kernel.invokeFunction('convertToInteractive',\n",
              "                                                    [key], {});\n",
              "        if (!dataTable) return;\n",
              "\n",
              "        const docLinkHtml = 'Like what you see? Visit the ' +\n",
              "          '<a target=\"_blank\" href=https://colab.research.google.com/notebooks/data_table.ipynb>data table notebook</a>'\n",
              "          + ' to learn more about interactive tables.';\n",
              "        element.innerHTML = '';\n",
              "        dataTable['output_type'] = 'display_data';\n",
              "        await google.colab.output.renderOutput(dataTable, element);\n",
              "        const docLink = document.createElement('div');\n",
              "        docLink.innerHTML = docLinkHtml;\n",
              "        element.appendChild(docLink);\n",
              "      }\n",
              "    </script>\n",
              "  </div>\n",
              "\n",
              "\n",
              "<div id=\"df-5146ac2a-1867-4ac3-b0d3-c83b257b63a8\">\n",
              "  <button class=\"colab-df-quickchart\" onclick=\"quickchart('df-5146ac2a-1867-4ac3-b0d3-c83b257b63a8')\"\n",
              "            title=\"Suggest charts\"\n",
              "            style=\"display:none;\">\n",
              "\n",
              "<svg xmlns=\"http://www.w3.org/2000/svg\" height=\"24px\"viewBox=\"0 0 24 24\"\n",
              "     width=\"24px\">\n",
              "    <g>\n",
              "        <path d=\"M19 3H5c-1.1 0-2 .9-2 2v14c0 1.1.9 2 2 2h14c1.1 0 2-.9 2-2V5c0-1.1-.9-2-2-2zM9 17H7v-7h2v7zm4 0h-2V7h2v10zm4 0h-2v-4h2v4z\"/>\n",
              "    </g>\n",
              "</svg>\n",
              "  </button>\n",
              "\n",
              "<style>\n",
              "  .colab-df-quickchart {\n",
              "      --bg-color: #E8F0FE;\n",
              "      --fill-color: #1967D2;\n",
              "      --hover-bg-color: #E2EBFA;\n",
              "      --hover-fill-color: #174EA6;\n",
              "      --disabled-fill-color: #AAA;\n",
              "      --disabled-bg-color: #DDD;\n",
              "  }\n",
              "\n",
              "  [theme=dark] .colab-df-quickchart {\n",
              "      --bg-color: #3B4455;\n",
              "      --fill-color: #D2E3FC;\n",
              "      --hover-bg-color: #434B5C;\n",
              "      --hover-fill-color: #FFFFFF;\n",
              "      --disabled-bg-color: #3B4455;\n",
              "      --disabled-fill-color: #666;\n",
              "  }\n",
              "\n",
              "  .colab-df-quickchart {\n",
              "    background-color: var(--bg-color);\n",
              "    border: none;\n",
              "    border-radius: 50%;\n",
              "    cursor: pointer;\n",
              "    display: none;\n",
              "    fill: var(--fill-color);\n",
              "    height: 32px;\n",
              "    padding: 0;\n",
              "    width: 32px;\n",
              "  }\n",
              "\n",
              "  .colab-df-quickchart:hover {\n",
              "    background-color: var(--hover-bg-color);\n",
              "    box-shadow: 0 1px 2px rgba(60, 64, 67, 0.3), 0 1px 3px 1px rgba(60, 64, 67, 0.15);\n",
              "    fill: var(--button-hover-fill-color);\n",
              "  }\n",
              "\n",
              "  .colab-df-quickchart-complete:disabled,\n",
              "  .colab-df-quickchart-complete:disabled:hover {\n",
              "    background-color: var(--disabled-bg-color);\n",
              "    fill: var(--disabled-fill-color);\n",
              "    box-shadow: none;\n",
              "  }\n",
              "\n",
              "  .colab-df-spinner {\n",
              "    border: 2px solid var(--fill-color);\n",
              "    border-color: transparent;\n",
              "    border-bottom-color: var(--fill-color);\n",
              "    animation:\n",
              "      spin 1s steps(1) infinite;\n",
              "  }\n",
              "\n",
              "  @keyframes spin {\n",
              "    0% {\n",
              "      border-color: transparent;\n",
              "      border-bottom-color: var(--fill-color);\n",
              "      border-left-color: var(--fill-color);\n",
              "    }\n",
              "    20% {\n",
              "      border-color: transparent;\n",
              "      border-left-color: var(--fill-color);\n",
              "      border-top-color: var(--fill-color);\n",
              "    }\n",
              "    30% {\n",
              "      border-color: transparent;\n",
              "      border-left-color: var(--fill-color);\n",
              "      border-top-color: var(--fill-color);\n",
              "      border-right-color: var(--fill-color);\n",
              "    }\n",
              "    40% {\n",
              "      border-color: transparent;\n",
              "      border-right-color: var(--fill-color);\n",
              "      border-top-color: var(--fill-color);\n",
              "    }\n",
              "    60% {\n",
              "      border-color: transparent;\n",
              "      border-right-color: var(--fill-color);\n",
              "    }\n",
              "    80% {\n",
              "      border-color: transparent;\n",
              "      border-right-color: var(--fill-color);\n",
              "      border-bottom-color: var(--fill-color);\n",
              "    }\n",
              "    90% {\n",
              "      border-color: transparent;\n",
              "      border-bottom-color: var(--fill-color);\n",
              "    }\n",
              "  }\n",
              "</style>\n",
              "\n",
              "  <script>\n",
              "    async function quickchart(key) {\n",
              "      const quickchartButtonEl =\n",
              "        document.querySelector('#' + key + ' button');\n",
              "      quickchartButtonEl.disabled = true;  // To prevent multiple clicks.\n",
              "      quickchartButtonEl.classList.add('colab-df-spinner');\n",
              "      try {\n",
              "        const charts = await google.colab.kernel.invokeFunction(\n",
              "            'suggestCharts', [key], {});\n",
              "      } catch (error) {\n",
              "        console.error('Error during call to suggestCharts:', error);\n",
              "      }\n",
              "      quickchartButtonEl.classList.remove('colab-df-spinner');\n",
              "      quickchartButtonEl.classList.add('colab-df-quickchart-complete');\n",
              "    }\n",
              "    (() => {\n",
              "      let quickchartButtonEl =\n",
              "        document.querySelector('#df-5146ac2a-1867-4ac3-b0d3-c83b257b63a8 button');\n",
              "      quickchartButtonEl.style.display =\n",
              "        google.colab.kernel.accessAllowed ? 'block' : 'none';\n",
              "    })();\n",
              "  </script>\n",
              "</div>\n",
              "\n",
              "    </div>\n",
              "  </div>\n"
            ],
            "application/vnd.google.colaboratory.intrinsic+json": {
              "type": "dataframe",
              "summary": "{\n  \"name\": \"train\",\n  \"rows\": 8,\n  \"fields\": [\n    {\n      \"column\": \"Survived\",\n      \"properties\": {\n        \"dtype\": \"number\",\n        \"std\": 314.8713661874558,\n        \"min\": 0.0,\n        \"max\": 891.0,\n        \"num_unique_values\": 5,\n        \"samples\": [\n          0.3838383838383838,\n          1.0,\n          0.4865924542648575\n        ],\n        \"semantic_type\": \"\",\n        \"description\": \"\"\n      }\n    },\n    {\n      \"column\": \"Sex\",\n      \"properties\": {\n        \"dtype\": \"number\",\n        \"std\": 314.80797389766315,\n        \"min\": 0.0,\n        \"max\": 891.0,\n        \"num_unique_values\": 5,\n        \"samples\": [\n          0.6475869809203143,\n          1.0,\n          0.4779900708960981\n        ],\n        \"semantic_type\": \"\",\n        \"description\": \"\"\n      }\n    },\n    {\n      \"column\": \"Age\",\n      \"properties\": {\n        \"dtype\": \"number\",\n        \"std\": 305.4002666458502,\n        \"min\": 0.42,\n        \"max\": 891.0,\n        \"num_unique_values\": 8,\n        \"samples\": [\n          29.36158249158249,\n          28.0,\n          891.0\n        ],\n        \"semantic_type\": \"\",\n        \"description\": \"\"\n      }\n    },\n    {\n      \"column\": \"SibSp\",\n      \"properties\": {\n        \"dtype\": \"number\",\n        \"std\": 314.4908277465442,\n        \"min\": 0.0,\n        \"max\": 891.0,\n        \"num_unique_values\": 6,\n        \"samples\": [\n          891.0,\n          0.5230078563411896,\n          8.0\n        ],\n        \"semantic_type\": \"\",\n        \"description\": \"\"\n      }\n    },\n    {\n      \"column\": \"Parch\",\n      \"properties\": {\n        \"dtype\": \"number\",\n        \"std\": 314.65971717879,\n        \"min\": 0.0,\n        \"max\": 891.0,\n        \"num_unique_values\": 5,\n        \"samples\": [\n          0.38159371492704824,\n          6.0,\n          0.8060572211299483\n        ],\n        \"semantic_type\": \"\",\n        \"description\": \"\"\n      }\n    },\n    {\n      \"column\": \"Fare\",\n      \"properties\": {\n        \"dtype\": \"number\",\n        \"std\": 330.6256632228578,\n        \"min\": 0.0,\n        \"max\": 891.0,\n        \"num_unique_values\": 8,\n        \"samples\": [\n          32.204207968574636,\n          14.4542,\n          891.0\n        ],\n        \"semantic_type\": \"\",\n        \"description\": \"\"\n      }\n    }\n  ]\n}"
            }
          },
          "metadata": {},
          "execution_count": 120
        }
      ]
    },
    {
      "cell_type": "markdown",
      "source": [
        "Произведём one-hot кодирование класса пассажиров."
      ],
      "metadata": {
        "id": "YjtbGJj9em3E"
      }
    },
    {
      "cell_type": "code",
      "source": [
        "train = pd.get_dummies(train, columns=['Pclass'], drop_first=True)\n",
        "test = pd.get_dummies(test, columns=['Pclass'], drop_first=True)"
      ],
      "metadata": {
        "id": "8K2g0UsKeVlW"
      },
      "execution_count": null,
      "outputs": []
    },
    {
      "cell_type": "markdown",
      "source": [
        "В целом отбор признаков у нас будет ещё происходить при построении нашей модели."
      ],
      "metadata": {
        "id": "5ufcuwbqdcSY"
      }
    },
    {
      "cell_type": "markdown",
      "source": [
        "## Моделирование"
      ],
      "metadata": {
        "id": "GDHdmFDudl15"
      }
    },
    {
      "cell_type": "code",
      "source": [
        "!pip install catboost"
      ],
      "metadata": {
        "colab": {
          "base_uri": "https://localhost:8080/"
        },
        "id": "eH3Mo26yfSnL",
        "outputId": "002f3dcb-a911-4864-eb69-cad9f68f09b5",
        "collapsed": true
      },
      "execution_count": null,
      "outputs": [
        {
          "output_type": "stream",
          "name": "stdout",
          "text": [
            "Requirement already satisfied: catboost in /usr/local/lib/python3.10/dist-packages (1.2.7)\n",
            "Requirement already satisfied: graphviz in /usr/local/lib/python3.10/dist-packages (from catboost) (0.20.3)\n",
            "Requirement already satisfied: matplotlib in /usr/local/lib/python3.10/dist-packages (from catboost) (3.7.1)\n",
            "Requirement already satisfied: numpy<2.0,>=1.16.0 in /usr/local/lib/python3.10/dist-packages (from catboost) (1.26.4)\n",
            "Requirement already satisfied: pandas>=0.24 in /usr/local/lib/python3.10/dist-packages (from catboost) (2.1.4)\n",
            "Requirement already satisfied: scipy in /usr/local/lib/python3.10/dist-packages (from catboost) (1.13.1)\n",
            "Requirement already satisfied: plotly in /usr/local/lib/python3.10/dist-packages (from catboost) (5.15.0)\n",
            "Requirement already satisfied: six in /usr/local/lib/python3.10/dist-packages (from catboost) (1.16.0)\n",
            "Requirement already satisfied: python-dateutil>=2.8.2 in /usr/local/lib/python3.10/dist-packages (from pandas>=0.24->catboost) (2.8.2)\n",
            "Requirement already satisfied: pytz>=2020.1 in /usr/local/lib/python3.10/dist-packages (from pandas>=0.24->catboost) (2024.2)\n",
            "Requirement already satisfied: tzdata>=2022.1 in /usr/local/lib/python3.10/dist-packages (from pandas>=0.24->catboost) (2024.1)\n",
            "Requirement already satisfied: contourpy>=1.0.1 in /usr/local/lib/python3.10/dist-packages (from matplotlib->catboost) (1.3.0)\n",
            "Requirement already satisfied: cycler>=0.10 in /usr/local/lib/python3.10/dist-packages (from matplotlib->catboost) (0.12.1)\n",
            "Requirement already satisfied: fonttools>=4.22.0 in /usr/local/lib/python3.10/dist-packages (from matplotlib->catboost) (4.53.1)\n",
            "Requirement already satisfied: kiwisolver>=1.0.1 in /usr/local/lib/python3.10/dist-packages (from matplotlib->catboost) (1.4.7)\n",
            "Requirement already satisfied: packaging>=20.0 in /usr/local/lib/python3.10/dist-packages (from matplotlib->catboost) (24.1)\n",
            "Requirement already satisfied: pillow>=6.2.0 in /usr/local/lib/python3.10/dist-packages (from matplotlib->catboost) (9.4.0)\n",
            "Requirement already satisfied: pyparsing>=2.3.1 in /usr/local/lib/python3.10/dist-packages (from matplotlib->catboost) (3.1.4)\n",
            "Requirement already satisfied: tenacity>=6.2.0 in /usr/local/lib/python3.10/dist-packages (from plotly->catboost) (9.0.0)\n"
          ]
        }
      ]
    },
    {
      "cell_type": "code",
      "source": [
        "from sklearn.model_selection import train_test_split\n",
        "from sklearn.linear_model import LogisticRegression\n",
        "from sklearn.ensemble import RandomForestClassifier\n",
        "from sklearn.preprocessing import PolynomialFeatures\n",
        "from sklearn.preprocessing import StandardScaler\n",
        "from catboost import CatBoostClassifier, Pool\n",
        "from sklearn.metrics import roc_auc_score, classification_report, roc_curve\n",
        "\n",
        "train_X, val_X, train_y, val_y = train_test_split(train.drop('Survived', axis=1), train.Survived, test_size=0.2, random_state=42)"
      ],
      "metadata": {
        "id": "GjNzRDt_dn6e"
      },
      "execution_count": null,
      "outputs": []
    },
    {
      "cell_type": "markdown",
      "source": [
        "Будем строить несколько моделей: логистическую регрессию на основе полиномиальных признаков, случайный лес и лес, построенный на основе градиентного бустинга. Выбор этих моделей обусловлен тем, что при помощи корреляции линейные зависимости не были найдены и нам необходимо искать нелинейные."
      ],
      "metadata": {
        "id": "_vL7HzEUfYc4"
      }
    },
    {
      "cell_type": "markdown",
      "source": [
        "### Разведочное моделирование"
      ],
      "metadata": {
        "id": "AKltFvM1V6Tt"
      }
    },
    {
      "cell_type": "markdown",
      "source": [
        "Для логистической регрессии приведём все признаки к единому масштабу."
      ],
      "metadata": {
        "id": "6K56kcRzh-FM"
      }
    },
    {
      "cell_type": "code",
      "source": [
        "std_scaler = StandardScaler()\n",
        "train_std_X = std_scaler.fit_transform(train_X)\n",
        "val_std_X = std_scaler.transform(val_X)"
      ],
      "metadata": {
        "id": "Cccd2-R0iC5m"
      },
      "execution_count": null,
      "outputs": []
    },
    {
      "cell_type": "code",
      "source": [
        "poly_features = PolynomialFeatures(degree=2, include_bias=False)\n",
        "train_X_poly = poly_features.fit_transform(train_std_X)\n",
        "val_X_poly = poly_features.transform(val_std_X)\n",
        "\n",
        "log_reg = LogisticRegression(penalty='l2', max_iter=500, random_state=42)\n",
        "log_reg.fit(train_X_poly, train_y)"
      ],
      "metadata": {
        "colab": {
          "base_uri": "https://localhost:8080/",
          "height": 74
        },
        "id": "kI0ibhj1fqmO",
        "outputId": "2c2d7802-44c9-44a5-cea8-94e296f52061"
      },
      "execution_count": null,
      "outputs": [
        {
          "output_type": "execute_result",
          "data": {
            "text/plain": [
              "LogisticRegression(max_iter=500, random_state=42)"
            ],
            "text/html": [
              "<style>#sk-container-id-7 {color: black;}#sk-container-id-7 pre{padding: 0;}#sk-container-id-7 div.sk-toggleable {background-color: white;}#sk-container-id-7 label.sk-toggleable__label {cursor: pointer;display: block;width: 100%;margin-bottom: 0;padding: 0.3em;box-sizing: border-box;text-align: center;}#sk-container-id-7 label.sk-toggleable__label-arrow:before {content: \"▸\";float: left;margin-right: 0.25em;color: #696969;}#sk-container-id-7 label.sk-toggleable__label-arrow:hover:before {color: black;}#sk-container-id-7 div.sk-estimator:hover label.sk-toggleable__label-arrow:before {color: black;}#sk-container-id-7 div.sk-toggleable__content {max-height: 0;max-width: 0;overflow: hidden;text-align: left;background-color: #f0f8ff;}#sk-container-id-7 div.sk-toggleable__content pre {margin: 0.2em;color: black;border-radius: 0.25em;background-color: #f0f8ff;}#sk-container-id-7 input.sk-toggleable__control:checked~div.sk-toggleable__content {max-height: 200px;max-width: 100%;overflow: auto;}#sk-container-id-7 input.sk-toggleable__control:checked~label.sk-toggleable__label-arrow:before {content: \"▾\";}#sk-container-id-7 div.sk-estimator input.sk-toggleable__control:checked~label.sk-toggleable__label {background-color: #d4ebff;}#sk-container-id-7 div.sk-label input.sk-toggleable__control:checked~label.sk-toggleable__label {background-color: #d4ebff;}#sk-container-id-7 input.sk-hidden--visually {border: 0;clip: rect(1px 1px 1px 1px);clip: rect(1px, 1px, 1px, 1px);height: 1px;margin: -1px;overflow: hidden;padding: 0;position: absolute;width: 1px;}#sk-container-id-7 div.sk-estimator {font-family: monospace;background-color: #f0f8ff;border: 1px dotted black;border-radius: 0.25em;box-sizing: border-box;margin-bottom: 0.5em;}#sk-container-id-7 div.sk-estimator:hover {background-color: #d4ebff;}#sk-container-id-7 div.sk-parallel-item::after {content: \"\";width: 100%;border-bottom: 1px solid gray;flex-grow: 1;}#sk-container-id-7 div.sk-label:hover label.sk-toggleable__label {background-color: #d4ebff;}#sk-container-id-7 div.sk-serial::before {content: \"\";position: absolute;border-left: 1px solid gray;box-sizing: border-box;top: 0;bottom: 0;left: 50%;z-index: 0;}#sk-container-id-7 div.sk-serial {display: flex;flex-direction: column;align-items: center;background-color: white;padding-right: 0.2em;padding-left: 0.2em;position: relative;}#sk-container-id-7 div.sk-item {position: relative;z-index: 1;}#sk-container-id-7 div.sk-parallel {display: flex;align-items: stretch;justify-content: center;background-color: white;position: relative;}#sk-container-id-7 div.sk-item::before, #sk-container-id-7 div.sk-parallel-item::before {content: \"\";position: absolute;border-left: 1px solid gray;box-sizing: border-box;top: 0;bottom: 0;left: 50%;z-index: -1;}#sk-container-id-7 div.sk-parallel-item {display: flex;flex-direction: column;z-index: 1;position: relative;background-color: white;}#sk-container-id-7 div.sk-parallel-item:first-child::after {align-self: flex-end;width: 50%;}#sk-container-id-7 div.sk-parallel-item:last-child::after {align-self: flex-start;width: 50%;}#sk-container-id-7 div.sk-parallel-item:only-child::after {width: 0;}#sk-container-id-7 div.sk-dashed-wrapped {border: 1px dashed gray;margin: 0 0.4em 0.5em 0.4em;box-sizing: border-box;padding-bottom: 0.4em;background-color: white;}#sk-container-id-7 div.sk-label label {font-family: monospace;font-weight: bold;display: inline-block;line-height: 1.2em;}#sk-container-id-7 div.sk-label-container {text-align: center;}#sk-container-id-7 div.sk-container {/* jupyter's `normalize.less` sets `[hidden] { display: none; }` but bootstrap.min.css set `[hidden] { display: none !important; }` so we also need the `!important` here to be able to override the default hidden behavior on the sphinx rendered scikit-learn.org. See: https://github.com/scikit-learn/scikit-learn/issues/21755 */display: inline-block !important;position: relative;}#sk-container-id-7 div.sk-text-repr-fallback {display: none;}</style><div id=\"sk-container-id-7\" class=\"sk-top-container\"><div class=\"sk-text-repr-fallback\"><pre>LogisticRegression(max_iter=500, random_state=42)</pre><b>In a Jupyter environment, please rerun this cell to show the HTML representation or trust the notebook. <br />On GitHub, the HTML representation is unable to render, please try loading this page with nbviewer.org.</b></div><div class=\"sk-container\" hidden><div class=\"sk-item\"><div class=\"sk-estimator sk-toggleable\"><input class=\"sk-toggleable__control sk-hidden--visually\" id=\"sk-estimator-id-7\" type=\"checkbox\" checked><label for=\"sk-estimator-id-7\" class=\"sk-toggleable__label sk-toggleable__label-arrow\">LogisticRegression</label><div class=\"sk-toggleable__content\"><pre>LogisticRegression(max_iter=500, random_state=42)</pre></div></div></div></div></div>"
            ]
          },
          "metadata": {},
          "execution_count": 125
        }
      ]
    },
    {
      "cell_type": "code",
      "source": [
        "def print_metrics(model, train_X, train_y, val_X, val_y, model_name):\n",
        "  print(f'Классификация для обучающей выборки ({model_name})')\n",
        "  print(classification_report(train_y, model.predict(train_X)))\n",
        "  print(f'Классификация для валидационной выборки ({model_name})')\n",
        "  print(classification_report(val_y, model.predict(val_X)))\n",
        "\n",
        "\n",
        "print_metrics(log_reg, train_X_poly, train_y, val_X_poly, val_y, 'логистическая регрессия')\n"
      ],
      "metadata": {
        "colab": {
          "base_uri": "https://localhost:8080/"
        },
        "id": "p83NcQUvjVK2",
        "outputId": "33621a5a-1636-4bab-8bd9-2ff9d5ecad9f"
      },
      "execution_count": null,
      "outputs": [
        {
          "output_type": "stream",
          "name": "stdout",
          "text": [
            "Классификация для обучающей выборки (логистическая регрессия)\n",
            "              precision    recall  f1-score   support\n",
            "\n",
            "           0       0.84      0.92      0.88       444\n",
            "           1       0.84      0.71      0.77       268\n",
            "\n",
            "    accuracy                           0.84       712\n",
            "   macro avg       0.84      0.81      0.82       712\n",
            "weighted avg       0.84      0.84      0.84       712\n",
            "\n",
            "Классификация для валидационной выборки (логистическая регрессия)\n",
            "              precision    recall  f1-score   support\n",
            "\n",
            "           0       0.80      0.90      0.85       105\n",
            "           1       0.82      0.69      0.75        74\n",
            "\n",
            "    accuracy                           0.81       179\n",
            "   macro avg       0.81      0.79      0.80       179\n",
            "weighted avg       0.81      0.81      0.81       179\n",
            "\n"
          ]
        }
      ]
    },
    {
      "cell_type": "markdown",
      "source": [
        "Мы получаем неплохие результаты - 0.81 accuracy на валидационной выборке при условии, что наша модель не сильно переобучена. Однако логистическая регрессия не очень хорошо отличает наших пострадавших от выживших - recall всего 0.69."
      ],
      "metadata": {
        "id": "vPDWT97Ym3eO"
      }
    },
    {
      "cell_type": "code",
      "source": [
        "def draw_roc_curve(model, val_X, val_y, model_name):\n",
        "  fpr, tpr, thrs = roc_curve(val_y, model.predict_proba(val_X)[:, 1])\n",
        "  plt.plot(fpr,tpr)\n",
        "  sns.lineplot(x=[0, 1], y=[0, 1], linestyle='--')\n",
        "  plt.ylabel('True Positive Rate')\n",
        "  plt.xlabel('False Positive Rate')\n",
        "  plt.title(f'ROC-AUC на валидационной выборке ({model_name})')\n",
        "  plt.show()\n",
        "\n",
        "draw_roc_curve(log_reg, val_X_poly, val_y, 'логистическая регрессия')"
      ],
      "metadata": {
        "colab": {
          "base_uri": "https://localhost:8080/",
          "height": 524
        },
        "id": "72uE0CedpXQk",
        "outputId": "b737b430-dfbc-4fb2-ad9d-5dc8ef0a5f20"
      },
      "execution_count": null,
      "outputs": [
        {
          "output_type": "display_data",
          "data": {
            "text/plain": [
              "<Figure size 800x550 with 1 Axes>"
            ],
            "image/png": "[encoded data removed]"
          },
          "metadata": {}
        }
      ]
    },
    {
      "cell_type": "code",
      "source": [
        "print('AUC на валидационной выборке: ', round(roc_auc_score(val_y, log_reg.predict_proba(val_X_poly)[:, 1]), 2))"
      ],
      "metadata": {
        "colab": {
          "base_uri": "https://localhost:8080/"
        },
        "id": "1LCWb2CroPy7",
        "outputId": "104a22dd-caa4-4a44-c25d-f326ce2c8d0d"
      },
      "execution_count": null,
      "outputs": [
        {
          "output_type": "stream",
          "name": "stdout",
          "text": [
            "AUC на валидационной выборке:  0.86\n"
          ]
        }
      ]
    },
    {
      "cell_type": "markdown",
      "source": [
        "ROC-AUC выглядит прилично у нашего предсказателя."
      ],
      "metadata": {
        "id": "TMx5rUmtSB1o"
      }
    },
    {
      "cell_type": "code",
      "source": [],
      "metadata": {
        "id": "i9IguCmxYwz_"
      },
      "execution_count": null,
      "outputs": []
    },
    {
      "cell_type": "markdown",
      "source": [
        "Перейдём к случайному лесу."
      ],
      "metadata": {
        "id": "PS7OizGIKFWv"
      }
    },
    {
      "cell_type": "code",
      "source": [
        "random_forest = RandomForestClassifier(max_depth=3, min_samples_leaf=10, n_estimators=100, criterion='entropy', random_state=42)\n",
        "random_forest.fit(train_X, train_y)"
      ],
      "metadata": {
        "colab": {
          "base_uri": "https://localhost:8080/",
          "height": 92
        },
        "id": "BRurFtGwJ_ej",
        "outputId": "f977485b-54ec-4583-c101-04043ed11f9d"
      },
      "execution_count": null,
      "outputs": [
        {
          "output_type": "execute_result",
          "data": {
            "text/plain": [
              "RandomForestClassifier(criterion='entropy', max_depth=3, min_samples_leaf=10,\n",
              "                       random_state=42)"
            ],
            "text/html": [
              "<style>#sk-container-id-8 {color: black;}#sk-container-id-8 pre{padding: 0;}#sk-container-id-8 div.sk-toggleable {background-color: white;}#sk-container-id-8 label.sk-toggleable__label {cursor: pointer;display: block;width: 100%;margin-bottom: 0;padding: 0.3em;box-sizing: border-box;text-align: center;}#sk-container-id-8 label.sk-toggleable__label-arrow:before {content: \"▸\";float: left;margin-right: 0.25em;color: #696969;}#sk-container-id-8 label.sk-toggleable__label-arrow:hover:before {color: black;}#sk-container-id-8 div.sk-estimator:hover label.sk-toggleable__label-arrow:before {color: black;}#sk-container-id-8 div.sk-toggleable__content {max-height: 0;max-width: 0;overflow: hidden;text-align: left;background-color: #f0f8ff;}#sk-container-id-8 div.sk-toggleable__content pre {margin: 0.2em;color: black;border-radius: 0.25em;background-color: #f0f8ff;}#sk-container-id-8 input.sk-toggleable__control:checked~div.sk-toggleable__content {max-height: 200px;max-width: 100%;overflow: auto;}#sk-container-id-8 input.sk-toggleable__control:checked~label.sk-toggleable__label-arrow:before {content: \"▾\";}#sk-container-id-8 div.sk-estimator input.sk-toggleable__control:checked~label.sk-toggleable__label {background-color: #d4ebff;}#sk-container-id-8 div.sk-label input.sk-toggleable__control:checked~label.sk-toggleable__label {background-color: #d4ebff;}#sk-container-id-8 input.sk-hidden--visually {border: 0;clip: rect(1px 1px 1px 1px);clip: rect(1px, 1px, 1px, 1px);height: 1px;margin: -1px;overflow: hidden;padding: 0;position: absolute;width: 1px;}#sk-container-id-8 div.sk-estimator {font-family: monospace;background-color: #f0f8ff;border: 1px dotted black;border-radius: 0.25em;box-sizing: border-box;margin-bottom: 0.5em;}#sk-container-id-8 div.sk-estimator:hover {background-color: #d4ebff;}#sk-container-id-8 div.sk-parallel-item::after {content: \"\";width: 100%;border-bottom: 1px solid gray;flex-grow: 1;}#sk-container-id-8 div.sk-label:hover label.sk-toggleable__label {background-color: #d4ebff;}#sk-container-id-8 div.sk-serial::before {content: \"\";position: absolute;border-left: 1px solid gray;box-sizing: border-box;top: 0;bottom: 0;left: 50%;z-index: 0;}#sk-container-id-8 div.sk-serial {display: flex;flex-direction: column;align-items: center;background-color: white;padding-right: 0.2em;padding-left: 0.2em;position: relative;}#sk-container-id-8 div.sk-item {position: relative;z-index: 1;}#sk-container-id-8 div.sk-parallel {display: flex;align-items: stretch;justify-content: center;background-color: white;position: relative;}#sk-container-id-8 div.sk-item::before, #sk-container-id-8 div.sk-parallel-item::before {content: \"\";position: absolute;border-left: 1px solid gray;box-sizing: border-box;top: 0;bottom: 0;left: 50%;z-index: -1;}#sk-container-id-8 div.sk-parallel-item {display: flex;flex-direction: column;z-index: 1;position: relative;background-color: white;}#sk-container-id-8 div.sk-parallel-item:first-child::after {align-self: flex-end;width: 50%;}#sk-container-id-8 div.sk-parallel-item:last-child::after {align-self: flex-start;width: 50%;}#sk-container-id-8 div.sk-parallel-item:only-child::after {width: 0;}#sk-container-id-8 div.sk-dashed-wrapped {border: 1px dashed gray;margin: 0 0.4em 0.5em 0.4em;box-sizing: border-box;padding-bottom: 0.4em;background-color: white;}#sk-container-id-8 div.sk-label label {font-family: monospace;font-weight: bold;display: inline-block;line-height: 1.2em;}#sk-container-id-8 div.sk-label-container {text-align: center;}#sk-container-id-8 div.sk-container {/* jupyter's `normalize.less` sets `[hidden] { display: none; }` but bootstrap.min.css set `[hidden] { display: none !important; }` so we also need the `!important` here to be able to override the default hidden behavior on the sphinx rendered scikit-learn.org. See: https://github.com/scikit-learn/scikit-learn/issues/21755 */display: inline-block !important;position: relative;}#sk-container-id-8 div.sk-text-repr-fallback {display: none;}</style><div id=\"sk-container-id-8\" class=\"sk-top-container\"><div class=\"sk-text-repr-fallback\"><pre>RandomForestClassifier(criterion=&#x27;entropy&#x27;, max_depth=3, min_samples_leaf=10,\n",
              "                       random_state=42)</pre><b>In a Jupyter environment, please rerun this cell to show the HTML representation or trust the notebook. <br />On GitHub, the HTML representation is unable to render, please try loading this page with nbviewer.org.</b></div><div class=\"sk-container\" hidden><div class=\"sk-item\"><div class=\"sk-estimator sk-toggleable\"><input class=\"sk-toggleable__control sk-hidden--visually\" id=\"sk-estimator-id-8\" type=\"checkbox\" checked><label for=\"sk-estimator-id-8\" class=\"sk-toggleable__label sk-toggleable__label-arrow\">RandomForestClassifier</label><div class=\"sk-toggleable__content\"><pre>RandomForestClassifier(criterion=&#x27;entropy&#x27;, max_depth=3, min_samples_leaf=10,\n",
              "                       random_state=42)</pre></div></div></div></div></div>"
            ]
          },
          "metadata": {},
          "execution_count": 129
        }
      ]
    },
    {
      "cell_type": "code",
      "source": [
        "print_metrics(random_forest, train_X, train_y, val_X, val_y, 'случайный лес')"
      ],
      "metadata": {
        "colab": {
          "base_uri": "https://localhost:8080/"
        },
        "id": "APIOW5jWNbib",
        "outputId": "1bec20c7-f2b7-42b9-9785-659cdaa182e1"
      },
      "execution_count": null,
      "outputs": [
        {
          "output_type": "stream",
          "name": "stdout",
          "text": [
            "Классификация для обучающей выборки (случайный лес)\n",
            "              precision    recall  f1-score   support\n",
            "\n",
            "           0       0.78      0.98      0.87       444\n",
            "           1       0.94      0.55      0.69       268\n",
            "\n",
            "    accuracy                           0.82       712\n",
            "   macro avg       0.86      0.76      0.78       712\n",
            "weighted avg       0.84      0.82      0.80       712\n",
            "\n",
            "Классификация для валидационной выборки (случайный лес)\n",
            "              precision    recall  f1-score   support\n",
            "\n",
            "           0       0.75      0.93      0.83       105\n",
            "           1       0.86      0.57      0.68        74\n",
            "\n",
            "    accuracy                           0.78       179\n",
            "   macro avg       0.81      0.75      0.76       179\n",
            "weighted avg       0.80      0.78      0.77       179\n",
            "\n"
          ]
        }
      ]
    },
    {
      "cell_type": "markdown",
      "source": [
        "Точность на 0,03 меньше, чем у логистической регрессии. Остальные метрики также хуже, чем у логистической регрессии."
      ],
      "metadata": {
        "id": "9TAOMB3EL1To"
      }
    },
    {
      "cell_type": "code",
      "source": [
        "draw_roc_curve(random_forest, val_X, val_y, 'случайный лес')"
      ],
      "metadata": {
        "colab": {
          "base_uri": "https://localhost:8080/",
          "height": 524
        },
        "id": "QBy1TLRXSO5i",
        "outputId": "70d9de66-1b11-47e4-b81c-5ecdd70fcc1f"
      },
      "execution_count": null,
      "outputs": [
        {
          "output_type": "display_data",
          "data": {
            "text/plain": [
              "<Figure size 800x550 with 1 Axes>"
            ],
            "image/png": "[encoded data removed]"
          },
          "metadata": {}
        }
      ]
    },
    {
      "cell_type": "code",
      "source": [
        "print('AUC на валидационной выборке: ', round(roc_auc_score(val_y, random_forest.predict_proba(val_X)[:, 1]), 2))"
      ],
      "metadata": {
        "colab": {
          "base_uri": "https://localhost:8080/"
        },
        "id": "Qst7EeulSzge",
        "outputId": "faca1f9a-b382-4e8f-dfb7-ce45d86e60e8"
      },
      "execution_count": null,
      "outputs": [
        {
          "output_type": "stream",
          "name": "stdout",
          "text": [
            "AUC на валидационной выборке:  0.88\n"
          ]
        }
      ]
    },
    {
      "cell_type": "markdown",
      "source": [
        "AUC-метрика получше, чем у логистической регрессии, однако есть в целом сомнения, что SibSp и Parch как-либо значимо влияет на метрики модели. Для начала попробуем сократить количество признаков методом PCA на модели случайного леса и логистической регрессии."
      ],
      "metadata": {
        "id": "KagtwKyUTRj2"
      }
    },
    {
      "cell_type": "markdown",
      "source": [
        "### Анализ необходимости и возможности сокращения размерности"
      ],
      "metadata": {
        "id": "aEHMTnp1V_a1"
      }
    },
    {
      "cell_type": "markdown",
      "source": [
        "#### РСА"
      ],
      "metadata": {
        "id": "8l5UCDdfNIHc"
      }
    },
    {
      "cell_type": "code",
      "source": [
        "from sklearn.decomposition import PCA\n",
        "pca = PCA(n_components=3, random_state=42)\n",
        "pca.fit(train_std_X)\n",
        "random_forest.fit(pca.transform(train_std_X), train_y)"
      ],
      "metadata": {
        "colab": {
          "base_uri": "https://localhost:8080/",
          "height": 92
        },
        "id": "mQ_q5nyMNzKC",
        "outputId": "e5a92a6d-c974-4f60-dad2-fdfa933326f8"
      },
      "execution_count": null,
      "outputs": [
        {
          "output_type": "execute_result",
          "data": {
            "text/plain": [
              "RandomForestClassifier(criterion='entropy', max_depth=3, min_samples_leaf=10,\n",
              "                       random_state=42)"
            ],
            "text/html": [
              "<style>#sk-container-id-9 {color: black;}#sk-container-id-9 pre{padding: 0;}#sk-container-id-9 div.sk-toggleable {background-color: white;}#sk-container-id-9 label.sk-toggleable__label {cursor: pointer;display: block;width: 100%;margin-bottom: 0;padding: 0.3em;box-sizing: border-box;text-align: center;}#sk-container-id-9 label.sk-toggleable__label-arrow:before {content: \"▸\";float: left;margin-right: 0.25em;color: #696969;}#sk-container-id-9 label.sk-toggleable__label-arrow:hover:before {color: black;}#sk-container-id-9 div.sk-estimator:hover label.sk-toggleable__label-arrow:before {color: black;}#sk-container-id-9 div.sk-toggleable__content {max-height: 0;max-width: 0;overflow: hidden;text-align: left;background-color: #f0f8ff;}#sk-container-id-9 div.sk-toggleable__content pre {margin: 0.2em;color: black;border-radius: 0.25em;background-color: #f0f8ff;}#sk-container-id-9 input.sk-toggleable__control:checked~div.sk-toggleable__content {max-height: 200px;max-width: 100%;overflow: auto;}#sk-container-id-9 input.sk-toggleable__control:checked~label.sk-toggleable__label-arrow:before {content: \"▾\";}#sk-container-id-9 div.sk-estimator input.sk-toggleable__control:checked~label.sk-toggleable__label {background-color: #d4ebff;}#sk-container-id-9 div.sk-label input.sk-toggleable__control:checked~label.sk-toggleable__label {background-color: #d4ebff;}#sk-container-id-9 input.sk-hidden--visually {border: 0;clip: rect(1px 1px 1px 1px);clip: rect(1px, 1px, 1px, 1px);height: 1px;margin: -1px;overflow: hidden;padding: 0;position: absolute;width: 1px;}#sk-container-id-9 div.sk-estimator {font-family: monospace;background-color: #f0f8ff;border: 1px dotted black;border-radius: 0.25em;box-sizing: border-box;margin-bottom: 0.5em;}#sk-container-id-9 div.sk-estimator:hover {background-color: #d4ebff;}#sk-container-id-9 div.sk-parallel-item::after {content: \"\";width: 100%;border-bottom: 1px solid gray;flex-grow: 1;}#sk-container-id-9 div.sk-label:hover label.sk-toggleable__label {background-color: #d4ebff;}#sk-container-id-9 div.sk-serial::before {content: \"\";position: absolute;border-left: 1px solid gray;box-sizing: border-box;top: 0;bottom: 0;left: 50%;z-index: 0;}#sk-container-id-9 div.sk-serial {display: flex;flex-direction: column;align-items: center;background-color: white;padding-right: 0.2em;padding-left: 0.2em;position: relative;}#sk-container-id-9 div.sk-item {position: relative;z-index: 1;}#sk-container-id-9 div.sk-parallel {display: flex;align-items: stretch;justify-content: center;background-color: white;position: relative;}#sk-container-id-9 div.sk-item::before, #sk-container-id-9 div.sk-parallel-item::before {content: \"\";position: absolute;border-left: 1px solid gray;box-sizing: border-box;top: 0;bottom: 0;left: 50%;z-index: -1;}#sk-container-id-9 div.sk-parallel-item {display: flex;flex-direction: column;z-index: 1;position: relative;background-color: white;}#sk-container-id-9 div.sk-parallel-item:first-child::after {align-self: flex-end;width: 50%;}#sk-container-id-9 div.sk-parallel-item:last-child::after {align-self: flex-start;width: 50%;}#sk-container-id-9 div.sk-parallel-item:only-child::after {width: 0;}#sk-container-id-9 div.sk-dashed-wrapped {border: 1px dashed gray;margin: 0 0.4em 0.5em 0.4em;box-sizing: border-box;padding-bottom: 0.4em;background-color: white;}#sk-container-id-9 div.sk-label label {font-family: monospace;font-weight: bold;display: inline-block;line-height: 1.2em;}#sk-container-id-9 div.sk-label-container {text-align: center;}#sk-container-id-9 div.sk-container {/* jupyter's `normalize.less` sets `[hidden] { display: none; }` but bootstrap.min.css set `[hidden] { display: none !important; }` so we also need the `!important` here to be able to override the default hidden behavior on the sphinx rendered scikit-learn.org. See: https://github.com/scikit-learn/scikit-learn/issues/21755 */display: inline-block !important;position: relative;}#sk-container-id-9 div.sk-text-repr-fallback {display: none;}</style><div id=\"sk-container-id-9\" class=\"sk-top-container\"><div class=\"sk-text-repr-fallback\"><pre>RandomForestClassifier(criterion=&#x27;entropy&#x27;, max_depth=3, min_samples_leaf=10,\n",
              "                       random_state=42)</pre><b>In a Jupyter environment, please rerun this cell to show the HTML representation or trust the notebook. <br />On GitHub, the HTML representation is unable to render, please try loading this page with nbviewer.org.</b></div><div class=\"sk-container\" hidden><div class=\"sk-item\"><div class=\"sk-estimator sk-toggleable\"><input class=\"sk-toggleable__control sk-hidden--visually\" id=\"sk-estimator-id-9\" type=\"checkbox\" checked><label for=\"sk-estimator-id-9\" class=\"sk-toggleable__label sk-toggleable__label-arrow\">RandomForestClassifier</label><div class=\"sk-toggleable__content\"><pre>RandomForestClassifier(criterion=&#x27;entropy&#x27;, max_depth=3, min_samples_leaf=10,\n",
              "                       random_state=42)</pre></div></div></div></div></div>"
            ]
          },
          "metadata": {},
          "execution_count": 133
        }
      ]
    },
    {
      "cell_type": "code",
      "source": [
        "def print_metrics(model, train_X, train_y, val_X, val_y, model_name):\n",
        "  print(f'Классификация для обучающей выборки ({model_name})')\n",
        "  print(classification_report(train_y, model.predict(train_X)))\n",
        "  print(f'Классификация для валидационной выборки ({model_name})')\n",
        "  print(classification_report(val_y, model.predict(val_X)))\n",
        "\n",
        "print_metrics(random_forest, pca.transform(train_std_X), train_y, pca.transform(val_std_X), val_y, 'случайный лес')"
      ],
      "metadata": {
        "colab": {
          "base_uri": "https://localhost:8080/"
        },
        "id": "9KltHMjSS77d",
        "outputId": "e35ede76-0c7a-4b61-d086-ea6b85ae96a9"
      },
      "execution_count": null,
      "outputs": [
        {
          "output_type": "stream",
          "name": "stdout",
          "text": [
            "Классификация для обучающей выборки (случайный лес)\n",
            "              precision    recall  f1-score   support\n",
            "\n",
            "           0       0.76      0.93      0.84       444\n",
            "           1       0.82      0.52      0.63       268\n",
            "\n",
            "    accuracy                           0.78       712\n",
            "   macro avg       0.79      0.72      0.74       712\n",
            "weighted avg       0.78      0.78      0.76       712\n",
            "\n",
            "Классификация для валидационной выборки (случайный лес)\n",
            "              precision    recall  f1-score   support\n",
            "\n",
            "           0       0.73      0.93      0.82       105\n",
            "           1       0.84      0.50      0.63        74\n",
            "\n",
            "    accuracy                           0.75       179\n",
            "   macro avg       0.78      0.72      0.72       179\n",
            "weighted avg       0.77      0.75      0.74       179\n",
            "\n"
          ]
        }
      ]
    },
    {
      "cell_type": "code",
      "source": [
        "log_reg_pca = LogisticRegression(random_state=42)\n",
        "log_reg_pca.fit(pca.transform(train_std_X), train_y)\n",
        "\n",
        "print_metrics(log_reg_pca, pca.transform(train_std_X), train_y, pca.transform(val_std_X), val_y, 'логистическая регрессия')"
      ],
      "metadata": {
        "colab": {
          "base_uri": "https://localhost:8080/"
        },
        "id": "M-P2HKdHT75N",
        "outputId": "40c51c8e-1435-4308-d7f6-9d99e76f5f0c"
      },
      "execution_count": null,
      "outputs": [
        {
          "output_type": "stream",
          "name": "stdout",
          "text": [
            "Классификация для обучающей выборки (логистическая регрессия)\n",
            "              precision    recall  f1-score   support\n",
            "\n",
            "           0       0.75      0.87      0.81       444\n",
            "           1       0.71      0.53      0.61       268\n",
            "\n",
            "    accuracy                           0.74       712\n",
            "   macro avg       0.73      0.70      0.71       712\n",
            "weighted avg       0.74      0.74      0.73       712\n",
            "\n",
            "Классификация для валидационной выборки (логистическая регрессия)\n",
            "              precision    recall  f1-score   support\n",
            "\n",
            "           0       0.71      0.86      0.78       105\n",
            "           1       0.72      0.51      0.60        74\n",
            "\n",
            "    accuracy                           0.72       179\n",
            "   macro avg       0.72      0.69      0.69       179\n",
            "weighted avg       0.72      0.72      0.70       179\n",
            "\n"
          ]
        }
      ]
    },
    {
      "cell_type": "markdown",
      "source": [
        "Результаты удручающие (все метрики ухудшились) по той причине, что либо линейное сокращение размерности пространства невозможно (что в целом логично с учетом дискретности нашего пространства и всё того же отсутствия корреляции), либо же признаки переобучения (обучающая метрика лучше тестовой) лишь случайность. Попробуем напрямую удалить два признака."
      ],
      "metadata": {
        "id": "SuEeNbRrWMJm"
      }
    },
    {
      "cell_type": "markdown",
      "source": [
        "#### Удаление признаков"
      ],
      "metadata": {
        "id": "-qX1HRAuNLXc"
      }
    },
    {
      "cell_type": "code",
      "source": [
        "train_cutted_X = train_X.drop(['SibSp', 'Parch'], axis=1)\n",
        "val_cutted_X = val_X.drop(['SibSp', 'Parch'], axis=1)\n",
        "\n",
        "random_forest.fit(train_cutted_X, train_y)\n",
        "\n",
        "print_metrics(random_forest, train_cutted_X, train_y, val_cutted_X, val_y, 'случайный лес')"
      ],
      "metadata": {
        "colab": {
          "base_uri": "https://localhost:8080/"
        },
        "id": "eoG723pxWJEV",
        "outputId": "1a8ac824-6c36-4c50-ce47-41940dbb0605"
      },
      "execution_count": null,
      "outputs": [
        {
          "output_type": "stream",
          "name": "stdout",
          "text": [
            "Классификация для обучающей выборки (случайный лес)\n",
            "              precision    recall  f1-score   support\n",
            "\n",
            "           0       0.80      0.96      0.87       444\n",
            "           1       0.90      0.59      0.71       268\n",
            "\n",
            "    accuracy                           0.82       712\n",
            "   macro avg       0.85      0.78      0.79       712\n",
            "weighted avg       0.83      0.82      0.81       712\n",
            "\n",
            "Классификация для валидационной выборки (случайный лес)\n",
            "              precision    recall  f1-score   support\n",
            "\n",
            "           0       0.75      0.92      0.83       105\n",
            "           1       0.84      0.57      0.68        74\n",
            "\n",
            "    accuracy                           0.78       179\n",
            "   macro avg       0.80      0.75      0.75       179\n",
            "weighted avg       0.79      0.78      0.77       179\n",
            "\n"
          ]
        }
      ]
    },
    {
      "cell_type": "markdown",
      "source": [
        "Accuracy стала лучше, чем раньше, но все еще хуже, чем у логистической регрессии выше. И все же модель улучшила свои показатели."
      ],
      "metadata": {
        "id": "c0kuM-xvMlWh"
      }
    },
    {
      "cell_type": "code",
      "source": [
        "poly_features.fit(train_cutted_X)\n",
        "log_reg.max_iter = 1000\n",
        "log_reg.fit(poly_features.transform(train_cutted_X), train_y)\n",
        "print_metrics(log_reg, poly_features.transform(train_cutted_X), train_y, poly_features.transform(val_cutted_X), val_y, 'логистическая регрессия')"
      ],
      "metadata": {
        "colab": {
          "base_uri": "https://localhost:8080/"
        },
        "id": "Rb7OjLzeYmqf",
        "outputId": "38afa866-bd4c-4e46-d103-e5d2cf5af0f7"
      },
      "execution_count": null,
      "outputs": [
        {
          "output_type": "stream",
          "name": "stdout",
          "text": [
            "Классификация для обучающей выборки (логистическая регрессия)\n",
            "              precision    recall  f1-score   support\n",
            "\n",
            "           0       0.82      0.89      0.86       444\n",
            "           1       0.79      0.69      0.74       268\n",
            "\n",
            "    accuracy                           0.81       712\n",
            "   macro avg       0.81      0.79      0.80       712\n",
            "weighted avg       0.81      0.81      0.81       712\n",
            "\n",
            "Классификация для валидационной выборки (логистическая регрессия)\n",
            "              precision    recall  f1-score   support\n",
            "\n",
            "           0       0.78      0.85      0.81       105\n",
            "           1       0.75      0.66      0.71        74\n",
            "\n",
            "    accuracy                           0.77       179\n",
            "   macro avg       0.77      0.75      0.76       179\n",
            "weighted avg       0.77      0.77      0.77       179\n",
            "\n"
          ]
        }
      ]
    },
    {
      "cell_type": "markdown",
      "source": [
        "Изменение аналогично незначительно, потому дальнейшего отбора признаков не будет. Оставим удаленными только их - разница между метриками обучающей и валидационной выборками сократилась, хоть в линейной регрессии незначительно ухудшилась достоверность. Однако теперь обучение занимает чуть меньше времени."
      ],
      "metadata": {
        "id": "wc8AjewBahHE"
      }
    },
    {
      "cell_type": "code",
      "source": [
        "train_X = train_cutted_X\n",
        "val_X = val_cutted_X"
      ],
      "metadata": {
        "id": "KzifJNGTdDlL"
      },
      "execution_count": null,
      "outputs": []
    },
    {
      "cell_type": "markdown",
      "source": [
        "### Оставшееся моделирование"
      ],
      "metadata": {
        "id": "3SfSUiuob7jz"
      }
    },
    {
      "cell_type": "code",
      "source": [
        "catboost_classifier = CatBoostClassifier(verbose=False, depth=3, random_state=42)\n",
        "catboost_classifier.fit(train_X, train_y)\n",
        "print_metrics(catboost_classifier, train_X, train_y, val_X, val_y, 'CatBoost')"
      ],
      "metadata": {
        "id": "AXxwpUCdb-Kd",
        "colab": {
          "base_uri": "https://localhost:8080/"
        },
        "outputId": "60d6fed8-33e0-498a-f1c3-e8e8e9937ef9"
      },
      "execution_count": null,
      "outputs": [
        {
          "output_type": "stream",
          "name": "stdout",
          "text": [
            "Классификация для обучающей выборки (CatBoost)\n",
            "              precision    recall  f1-score   support\n",
            "\n",
            "           0       0.85      0.94      0.89       444\n",
            "           1       0.88      0.73      0.80       268\n",
            "\n",
            "    accuracy                           0.86       712\n",
            "   macro avg       0.87      0.83      0.85       712\n",
            "weighted avg       0.86      0.86      0.86       712\n",
            "\n",
            "Классификация для валидационной выборки (CatBoost)\n",
            "              precision    recall  f1-score   support\n",
            "\n",
            "           0       0.81      0.91      0.86       105\n",
            "           1       0.85      0.69      0.76        74\n",
            "\n",
            "    accuracy                           0.82       179\n",
            "   macro avg       0.83      0.80      0.81       179\n",
            "weighted avg       0.82      0.82      0.82       179\n",
            "\n"
          ]
        }
      ]
    },
    {
      "cell_type": "markdown",
      "source": [
        "Градиентный бустинг по accuracy лучше лишь на 0,01 (незначительно), но точность у положительного класса увеличилась на 0,03 по сравнению с первой логистической регрессией."
      ],
      "metadata": {
        "id": "oPPkT1xtN0VW"
      }
    },
    {
      "cell_type": "code",
      "source": [
        "draw_roc_curve(catboost_classifier, val_X, val_y, 'CatBoost')"
      ],
      "metadata": {
        "colab": {
          "base_uri": "https://localhost:8080/",
          "height": 524
        },
        "id": "C_rxQhyVityM",
        "outputId": "5155946c-da79-40c2-efae-40ecf3f87908"
      },
      "execution_count": null,
      "outputs": [
        {
          "output_type": "display_data",
          "data": {
            "text/plain": [
              "<Figure size 800x550 with 1 Axes>"
            ],
            "image/png": "[encoded data removed]"
          },
          "metadata": {}
        }
      ]
    },
    {
      "cell_type": "code",
      "source": [
        "round(roc_auc_score(val_y, catboost_classifier.predict_proba(val_X)[:, 1]), 2)"
      ],
      "metadata": {
        "colab": {
          "base_uri": "https://localhost:8080/"
        },
        "id": "meAAvmUedTjH",
        "outputId": "f6769a31-daaa-4df0-ba8e-6ebdc7fdd570"
      },
      "execution_count": null,
      "outputs": [
        {
          "output_type": "execute_result",
          "data": {
            "text/plain": [
              "0.89"
            ]
          },
          "metadata": {},
          "execution_count": 141
        }
      ]
    },
    {
      "cell_type": "markdown",
      "source": [
        "## Предсказание + итоги"
      ],
      "metadata": {
        "id": "svh-ujiql5fi"
      }
    },
    {
      "cell_type": "markdown",
      "source": [
        "Градиентный бустинг показал себя чуть лучше, чем остальные, однако весь прирост заключается в долях сотых. И всё же оставим именно его - у нас нет задачи найти наиболее простую модель, а нужно найти наиболее точную."
      ],
      "metadata": {
        "id": "OQxL878-kwgv"
      }
    },
    {
      "cell_type": "code",
      "source": [
        "predict_df = pd.DataFrame({'PassengerId': test.PassengerId, 'Survived': catboost_classifier.predict(test)})\n",
        "#predict_df.to_csv('submission.csv', index=False)"
      ],
      "metadata": {
        "id": "fJwYor7Bl_Nb"
      },
      "execution_count": null,
      "outputs": []
    },
    {
      "cell_type": "markdown",
      "source": [
        "Загрузив решение на Kaggle получаем следующее:"
      ],
      "metadata": {
        "id": "5WABGYhptE7V"
      }
    },
    {
      "cell_type": "markdown",
      "source": [
        "![image.png](data:image/png;base64,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)"
      ],
      "metadata": {
        "id": "AmoTxzkitJbz"
      }
    },
    {
      "cell_type": "markdown",
      "source": [
        "![image.png](data:image/png;base64,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)"
      ],
      "metadata": {
        "id": "g3iY4jhTu5-k"
      }
    }
  ]
}